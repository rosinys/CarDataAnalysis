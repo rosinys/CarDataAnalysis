{
  "nbformat": 4,
  "nbformat_minor": 0,
  "metadata": {
    "colab": {
      "provenance": [],
      "collapsed_sections": [
        "noLORgl0EyZ7",
        "_arsoulixLUz"
      ],
      "include_colab_link": true
    },
    "kernelspec": {
      "name": "python3",
      "display_name": "Python 3"
    },
    "language_info": {
      "name": "python"
    }
  },
  "cells": [
    {
      "cell_type": "markdown",
      "metadata": {
        "id": "view-in-github",
        "colab_type": "text"
      },
      "source": [
        "<a href=\"https://colab.research.google.com/github/rosinys/CarDataAnalysis/blob/main/CarSales.ipynb\" target=\"_parent\"><img src=\"https://colab.research.google.com/assets/colab-badge.svg\" alt=\"Open In Colab\"/></a>"
      ]
    },
    {
      "cell_type": "markdown",
      "source": [
        "# **🚗 Car Sales Data Analysis**"
      ],
      "metadata": {
        "id": "39bK07iNEir4"
      }
    },
    {
      "cell_type": "markdown",
      "source": [
        "### 📁 Read Data\n",
        "\n",
        "\n"
      ],
      "metadata": {
        "id": "noLORgl0EyZ7"
      }
    },
    {
      "cell_type": "code",
      "source": [
        "import kagglehub\n",
        "import pandas as pd\n",
        "import os\n",
        "\n",
        "path = kagglehub.dataset_download(\"anjaliprajapati307/usa-car-sales-dataset-2018-2024\")\n",
        "\n",
        "print(\"Path to dataset files:\", path)\n",
        "\n",
        "# Find the CSV file in the downloaded folder\n",
        "for file in os.listdir(path):\n",
        "    if file.endswith(\".csv\"):\n",
        "        csv_file = os.path.join(path, file)\n",
        "        break\n",
        "\n",
        "# Read the dataset\n",
        "car_sales_df = pd.read_csv(csv_file)\n"
      ],
      "metadata": {
        "colab": {
          "base_uri": "https://localhost:8080/"
        },
        "id": "N0vMNOZt8UGo",
        "outputId": "d53584e8-daed-4b3d-b2bf-88e038a0686c"
      },
      "execution_count": null,
      "outputs": [
        {
          "output_type": "stream",
          "name": "stdout",
          "text": [
            "Downloading from https://www.kaggle.com/api/v1/datasets/download/anjaliprajapati307/usa-car-sales-dataset-2018-2024?dataset_version_number=1...\n"
          ]
        },
        {
          "output_type": "stream",
          "name": "stderr",
          "text": [
            "100%|██████████| 45.3M/45.3M [00:00<00:00, 102MB/s]"
          ]
        },
        {
          "output_type": "stream",
          "name": "stdout",
          "text": [
            "Extracting files...\n"
          ]
        },
        {
          "output_type": "stream",
          "name": "stderr",
          "text": [
            "\n"
          ]
        },
        {
          "output_type": "stream",
          "name": "stdout",
          "text": [
            "Path to dataset files: /root/.cache/kagglehub/datasets/anjaliprajapati307/usa-car-sales-dataset-2018-2024/versions/1\n"
          ]
        }
      ]
    },
    {
      "cell_type": "markdown",
      "source": [
        "### 🔍Data Analysis"
      ],
      "metadata": {
        "id": "V-H-FaLC3wly"
      }
    },
    {
      "cell_type": "code",
      "source": [
        "car_sales_df.info()"
      ],
      "metadata": {
        "colab": {
          "base_uri": "https://localhost:8080/"
        },
        "id": "6ah1BD0eBoF_",
        "outputId": "215fa429-02a7-4ca3-c83e-e0d8e36090f3"
      },
      "execution_count": null,
      "outputs": [
        {
          "output_type": "stream",
          "name": "stdout",
          "text": [
            "<class 'pandas.core.frame.DataFrame'>\n",
            "RangeIndex: 1000668 entries, 0 to 1000667\n",
            "Data columns (total 22 columns):\n",
            " #   Column             Non-Null Count    Dtype  \n",
            "---  ------             --------------    -----  \n",
            " 0   Date               1000668 non-null  object \n",
            " 1   Salesperson        1000668 non-null  object \n",
            " 2   Customer Name      1000668 non-null  object \n",
            " 3   Customer Age       1000668 non-null  int64  \n",
            " 4   Customer Gender    1000668 non-null  object \n",
            " 5   Car Make           1000668 non-null  object \n",
            " 6   Car Model          1000668 non-null  object \n",
            " 7   Car Year           1000668 non-null  int64  \n",
            " 8   Quantity           1000668 non-null  int64  \n",
            " 9   Sale Price         1000668 non-null  float64\n",
            " 10  Cost               1000668 non-null  float64\n",
            " 11  Profit             1000668 non-null  float64\n",
            " 12  Discount           1000668 non-null  float64\n",
            " 13  Payment Method     1000668 non-null  object \n",
            " 14  Commission Rate    1000668 non-null  float64\n",
            " 15  Commission Earned  1000668 non-null  float64\n",
            " 16  Sales Region       1000668 non-null  object \n",
            " 17  Sale Year          1000668 non-null  int64  \n",
            " 18  Sale Month         1000668 non-null  object \n",
            " 19  Sale Quarter       1000668 non-null  int64  \n",
            " 20  Day of Week        1000668 non-null  object \n",
            " 21  Season             1000668 non-null  object \n",
            "dtypes: float64(6), int64(5), object(11)\n",
            "memory usage: 168.0+ MB\n"
          ]
        }
      ]
    },
    {
      "cell_type": "code",
      "source": [
        "unique_makes = sorted(car_sales_df['Car Make'].dropna().unique())\n",
        "print(\"Number of unique car makes:\", len(unique_makes))\n",
        "print(unique_makes)"
      ],
      "metadata": {
        "colab": {
          "base_uri": "https://localhost:8080/"
        },
        "id": "CqV8bLhsB1Jy",
        "outputId": "d89abe69-7b32-44aa-c9e1-89df06d78d9b"
      },
      "execution_count": null,
      "outputs": [
        {
          "output_type": "stream",
          "name": "stdout",
          "text": [
            "Number of unique car makes: 10\n",
            "['Audi', 'BMW', 'Chevrolet', 'Ford', 'Honda', 'Hyundai', 'Kia', 'Mercedes', 'Nissan', 'Toyota']\n"
          ]
        }
      ]
    },
    {
      "cell_type": "code",
      "source": [
        "car_sales_df.duplicated().sum()"
      ],
      "metadata": {
        "colab": {
          "base_uri": "https://localhost:8080/"
        },
        "id": "hJVV8HiYF_Gk",
        "outputId": "aed3b597-8937-48bc-cf0b-86da4c47d818"
      },
      "execution_count": null,
      "outputs": [
        {
          "output_type": "execute_result",
          "data": {
            "text/plain": [
              "np.int64(0)"
            ]
          },
          "metadata": {},
          "execution_count": 4
        }
      ]
    },
    {
      "cell_type": "code",
      "source": [
        "# Find the duplicate groups based on Date, Salesperson, Customer Name\n",
        "duplicate_mask = car_sales_df.duplicated(subset=['Date', 'Salesperson', 'Customer Name'], keep=False)\n",
        "\n",
        "# Remove duplicate rows\n",
        "car_sales_df_cleaned = car_sales_df[~duplicate_mask].copy()\n",
        "\n",
        "# Verify\n",
        "print(f\"Original rows: {len(car_sales_df)}\")\n",
        "print(f\"Rows after removing duplicate groups: {len(car_sales_df_cleaned)}\")\n"
      ],
      "metadata": {
        "colab": {
          "base_uri": "https://localhost:8080/"
        },
        "id": "pTzpbsP6G4P1",
        "outputId": "ac5a2609-37ec-4ef0-b941-c3cc59cbb2e3"
      },
      "execution_count": null,
      "outputs": [
        {
          "output_type": "stream",
          "name": "stdout",
          "text": [
            "Original rows: 1000668\n",
            "Rows after removing duplicate groups: 1000526\n"
          ]
        }
      ]
    },
    {
      "cell_type": "code",
      "source": [
        "# Convert the 'Date' column to datetime format (YYYY-MM-DD)\n",
        "car_sales_df['Date'] = pd.to_datetime(car_sales_df['Date'], format='%Y-%m-%d', errors='coerce')\n",
        "print(car_sales_df['Date'].dtype)"
      ],
      "metadata": {
        "colab": {
          "base_uri": "https://localhost:8080/"
        },
        "id": "0qEdd2cSK0Yd",
        "outputId": "6f0a55ea-852e-4996-c67a-6989a9d57271"
      },
      "execution_count": null,
      "outputs": [
        {
          "output_type": "stream",
          "name": "stdout",
          "text": [
            "datetime64[ns]\n"
          ]
        }
      ]
    },
    {
      "cell_type": "code",
      "source": [
        "# Drop the given data\n",
        "cols_to_drop = ['Sale Year', 'Sale Month', 'Sale Quarter', 'Day of Week']\n",
        "car_sales_df = car_sales_df.drop(columns=[col for col in cols_to_drop if col in car_sales_df.columns])"
      ],
      "metadata": {
        "id": "TmbO13TBK3KZ"
      },
      "execution_count": null,
      "outputs": []
    },
    {
      "cell_type": "code",
      "source": [
        "# Extract time-based features from the 'Date' column\n",
        "car_sales_df['Sale Year'] = car_sales_df['Date'].dt.year          # numeric values\n",
        "car_sales_df['Sale Month'] = car_sales_df['Date'].dt.month        # numeric values 1-12\n",
        "car_sales_df['Sale Quarter'] = car_sales_df['Date'].dt.quarter    # numeric values 1-4\n",
        "car_sales_df['Day of Week'] = car_sales_df['Date'].dt.day_name()  # numeric values 1-7"
      ],
      "metadata": {
        "id": "W5r5McCoLNxP"
      },
      "execution_count": null,
      "outputs": []
    },
    {
      "cell_type": "code",
      "source": [
        "# Convert categorical time features to numeric values for easier analysis\n",
        "\n",
        "day_map = {'Monday':1, 'Tuesday':2, 'Wednesday':3, 'Thursday':4, 'Friday':5, 'Saturday':6, 'Sunday':7}\n",
        "car_sales_df['Day of Week Num'] = car_sales_df['Day of Week'].map(day_map)\n",
        "\n",
        "season_map = {'Spring':1, 'Summer':2, 'Fall':3, 'Winter':4}\n",
        "car_sales_df['Season Num'] = car_sales_df['Season'].map(season_map)  # if Season still exists"
      ],
      "metadata": {
        "id": "49qvw-01LaoG"
      },
      "execution_count": null,
      "outputs": []
    },
    {
      "cell_type": "code",
      "source": [
        "# Standarize data to car based details\n",
        "car_sales_df['Total Tag Price'] = car_sales_df['Sale Price'] / (1 - car_sales_df['Discount'])\n",
        "car_sales_df['Car Tag Price'] = car_sales_df['Total Tag Price'] / car_sales_df['Quantity']\n",
        "car_sales_df['Dealer Car Price'] = car_sales_df['Cost'] / car_sales_df['Quantity']\n",
        "car_sales_df['Profit_per_Car'] = car_sales_df['Profit'] / car_sales_df['Quantity']\n",
        "car_sales_df['Profit_Margin_per_Car'] = car_sales_df['Profit_per_Car'] / car_sales_df['Dealer Car Price']"
      ],
      "metadata": {
        "id": "sztc3aCmU2-7"
      },
      "execution_count": null,
      "outputs": []
    },
    {
      "cell_type": "code",
      "source": [
        "# Calculate Car Age\n",
        "car_sales_df['Car Age'] = car_sales_df['Sale Year'] - car_sales_df['Car Year']\n",
        "\n",
        "# check outcomes\n",
        "print(car_sales_df[['Car Year', 'Sale Year', 'Car Age']].head())\n"
      ],
      "metadata": {
        "colab": {
          "base_uri": "https://localhost:8080/"
        },
        "id": "kQyb8GjMOMuT",
        "outputId": "0d76b953-100c-450a-ba1e-03c2fe4bd33b"
      },
      "execution_count": null,
      "outputs": [
        {
          "output_type": "stream",
          "name": "stdout",
          "text": [
            "   Car Year  Sale Year  Car Age\n",
            "0      2019       2019        0\n",
            "1      2021       2018       -3\n",
            "2      2023       2021       -2\n",
            "3      2022       2020       -2\n",
            "4      2019       2020        1\n"
          ]
        }
      ]
    },
    {
      "cell_type": "code",
      "source": [
        "## Remove rows with negative Car Age - negative 1 is still possible because new models are technically released the year before\n",
        "# 2026 model is released during 2025\n",
        "car_sales_df = car_sales_df[car_sales_df['Car Age'] >= -1].copy()\n",
        "\n",
        "# Verify\n",
        "print(f\"Rows remaining after removing negative Car Age: {len(car_sales_df)}\")\n",
        "print(car_sales_df['Car Age'].describe())\n"
      ],
      "metadata": {
        "colab": {
          "base_uri": "https://localhost:8080/"
        },
        "id": "UhlBkd_GPLHx",
        "outputId": "91e237bb-1ab6-4e97-e36f-5682d8a3c5ff"
      },
      "execution_count": null,
      "outputs": [
        {
          "output_type": "stream",
          "name": "stdout",
          "text": [
            "Rows remaining after removing negative Car Age: 694488\n",
            "count    694488.000000\n",
            "mean          1.474044\n",
            "std           1.944779\n",
            "min          -1.000000\n",
            "25%           0.000000\n",
            "50%           1.000000\n",
            "75%           3.000000\n",
            "max           6.000000\n",
            "Name: Car Age, dtype: float64\n"
          ]
        }
      ]
    },
    {
      "cell_type": "code",
      "source": [
        "# Differentiate cars based on if it was an early release purchase (if was purchased right away)\n",
        "car_sales_df['Early Release Purchase'] = car_sales_df['Car Age'] <= 0\n",
        "\n",
        "# Replace negative Car Age with 0, since these are new cars\n",
        "car_sales_df.loc[car_sales_df['Car Age'] < 0, 'Car Age'] = 0\n",
        "\n",
        "# Verify\n",
        "print(car_sales_df[['Car Year', 'Sale Year', 'Car Age', 'Early Release Purchase']].sample(10))\n"
      ],
      "metadata": {
        "colab": {
          "base_uri": "https://localhost:8080/"
        },
        "id": "syL1k6bARlVf",
        "outputId": "b2377aa0-457a-4846-f384-21f842eb88e8",
        "collapsed": true
      },
      "execution_count": null,
      "outputs": [
        {
          "output_type": "stream",
          "name": "stdout",
          "text": [
            "        Car Year  Sale Year  Car Age  Early Release Purchase\n",
            "253241      2023       2023        0                    True\n",
            "78520       2022       2022        0                    True\n",
            "855489      2021       2021        0                    True\n",
            "847741      2022       2024        2                   False\n",
            "449561      2023       2023        0                    True\n",
            "887751      2019       2021        2                   False\n",
            "97944       2020       2021        1                   False\n",
            "982760      2019       2018        0                    True\n",
            "554025      2022       2024        2                   False\n",
            "542837      2018       2024        6                   False\n"
          ]
        }
      ]
    },
    {
      "cell_type": "code",
      "source": [
        "# Look into dataframe's statistics\n",
        "print(car_sales_df.describe())"
      ],
      "metadata": {
        "colab": {
          "base_uri": "https://localhost:8080/"
        },
        "id": "-Vx3rMqErm_8",
        "outputId": "b9f826cb-d622-4bdd-e340-c8a9b232ee09"
      },
      "execution_count": null,
      "outputs": [
        {
          "output_type": "stream",
          "name": "stdout",
          "text": [
            "                                Date   Customer Age       Car Year  \\\n",
            "count                         694488  694488.000000  694488.000000   \n",
            "mean   2022-03-27 23:55:16.846943488      45.029668    2020.263129   \n",
            "min              2018-01-01 00:00:00      20.000000    2018.000000   \n",
            "25%              2020-11-17 00:00:00      32.000000    2019.000000   \n",
            "50%              2022-07-03 00:00:00      45.000000    2020.000000   \n",
            "75%              2023-10-15 00:00:00      58.000000    2022.000000   \n",
            "max              2024-12-31 00:00:00      70.000000    2024.000000   \n",
            "std                              NaN      14.725391       1.819110   \n",
            "\n",
            "            Quantity    Sale Price          Cost        Profit       Discount  \\\n",
            "count  694488.000000  6.944880e+05  6.944880e+05  6.944880e+05  694488.000000   \n",
            "mean        2.120912  8.656855e+04  7.254769e+04  1.402086e+04       0.059981   \n",
            "min         1.000000  9.508000e+03  8.016360e+03 -1.499900e+07       0.000000   \n",
            "25%         2.000000  5.495998e+04  4.363424e+04  8.191500e+03       0.030000   \n",
            "50%         2.000000  7.391202e+04  5.933054e+04  1.566123e+04       0.060000   \n",
            "75%         3.000000  1.072371e+05  8.298139e+04  2.577832e+04       0.090000   \n",
            "max         3.000000  2.821159e+07  4.139586e+07  8.908427e+04       0.150000   \n",
            "std         0.608412  1.745080e+05  3.638000e+05  2.122310e+05       0.037584   \n",
            "\n",
            "       Commission Rate  Commission Earned  ...     Sale Month   Sale Quarter  \\\n",
            "count    694488.000000      694488.000000  ...  694488.000000  694488.000000   \n",
            "mean          0.071178        5605.015698  ...       6.523181       2.508756   \n",
            "min           0.030000           0.000000  ...       1.000000       1.000000   \n",
            "25%           0.060000        3283.285000  ...       4.000000       2.000000   \n",
            "50%           0.070000        4987.340000  ...       7.000000       3.000000   \n",
            "75%           0.080000        7408.560000  ...      10.000000       4.000000   \n",
            "max           0.120000       32691.200000  ...      12.000000       4.000000   \n",
            "std           0.017442        3575.447343  ...       3.451145       1.118024   \n",
            "\n",
            "       Day of Week Num     Season Num  Total Tag Price  Car Tag Price  \\\n",
            "count    694488.000000  694488.000000     6.944880e+05   6.944880e+05   \n",
            "mean          3.995395       2.492148     9.233744e+04   4.347672e+04   \n",
            "min           1.000000       1.000000     9.802062e+03   8.861196e+03   \n",
            "25%           2.000000       1.000000     5.839597e+04   2.948190e+04   \n",
            "50%           4.000000       2.000000     7.888275e+04   3.678993e+04   \n",
            "75%           6.000000       3.000000     1.143566e+05   5.285177e+04   \n",
            "max           7.000000       4.000000     3.001233e+07   1.262278e+07   \n",
            "std           2.001450       1.117130     1.873647e+05   9.028346e+04   \n",
            "\n",
            "       Dealer Car Price  Profit_per_Car  Profit_Margin_per_Car        Car Age  \n",
            "count      6.944880e+05    6.944880e+05          694488.000000  694488.000000  \n",
            "mean       3.499722e+04    5.800859e+03               0.269784       1.650472  \n",
            "min        6.393105e+03   -1.477479e+07              -0.938037       0.000000  \n",
            "25%        2.230594e+04    4.530416e+03               0.175032       0.000000  \n",
            "50%        2.812460e+04    7.456349e+03               0.300536       1.000000  \n",
            "75%        3.834073e+04    1.174543e+04               0.409465       3.000000  \n",
            "max        2.088366e+07    3.147628e+04               0.428572       6.000000  \n",
            "std        2.141672e+05    1.428655e+05               0.147920       1.747708  \n",
            "\n",
            "[8 rows x 21 columns]\n"
          ]
        }
      ]
    },
    {
      "cell_type": "markdown",
      "source": [
        "### Winsorizing"
      ],
      "metadata": {
        "id": "_arsoulixLUz"
      }
    },
    {
      "cell_type": "code",
      "source": [
        "from scipy.stats import mstats\n",
        "\n",
        "# Columns to Winsorize\n",
        "cols_to_winsorize = [\n",
        "    'Total Tag Price', 'Car Tag Price', 'Dealer Car Price',\n",
        "    'Profit_per_Car', 'Profit_Margin_per_Car'\n",
        "]\n",
        "\n",
        "# Make a copy of your current dataset\n",
        "car_sales_winsorized = car_sales_df.copy()\n",
        "\n",
        "# Function to Winsorize per Car Model\n",
        "def winsorize_group(df, group_col, target_col, lower_pct=0.01, upper_pct=0.01):\n",
        "    \"\"\"Winsorize a column per group based on percentiles\"\"\"\n",
        "    def cap(group):\n",
        "        return mstats.winsorize(group, limits=[lower_pct, upper_pct])\n",
        "    return df.groupby(group_col)[target_col].transform(cap)\n",
        "\n",
        "# Apply Winsorization per Car Model\n",
        "for col in cols_to_winsorize:\n",
        "    car_sales_winsorized[col] = winsorize_group(car_sales_winsorized, 'Car Model', col)\n",
        "\n",
        "# Optional: check min/max after Winsorization\n",
        "for col in cols_to_winsorize:\n",
        "    print(f\"{col}: min={car_sales_winsorized[col].min():,.2f}, max={car_sales_winsorized[col].max():,.2f}\")\n"
      ],
      "metadata": {
        "colab": {
          "base_uri": "https://localhost:8080/"
        },
        "id": "48VmxIabwuVC",
        "outputId": "cf764673-309e-4023-f125-1ab18193f878"
      },
      "execution_count": null,
      "outputs": [
        {
          "output_type": "stream",
          "name": "stdout",
          "text": [
            "Total Tag Price: min=18,711.46, max=262,152.00\n",
            "Car Tag Price: min=16,559.00, max=95,833.52\n",
            "Dealer Car Price: min=12,237.24, max=78,130.58\n",
            "Profit_per_Car: min=-7,990.91, max=26,045.52\n",
            "Profit_Margin_per_Car: min=-0.11, max=0.43\n"
          ]
        }
      ]
    },
    {
      "cell_type": "markdown",
      "source": [
        "### Eliminate Negative Profits"
      ],
      "metadata": {
        "id": "I6BEA9Q2xvtm"
      }
    },
    {
      "cell_type": "code",
      "source": [
        "# Count rows with negative Profit\n",
        "negative_profit_count = car_sales_winsorized[car_sales_winsorized['Profit'] < 0].shape[0]\n",
        "\n",
        "print(f\"Number of rows with negative Profit: {negative_profit_count}\")\n"
      ],
      "metadata": {
        "colab": {
          "base_uri": "https://localhost:8080/"
        },
        "id": "8QY6B7gHxq_g",
        "outputId": "634e1c3c-a969-4308-8c7d-7eb19778332b"
      },
      "execution_count": null,
      "outputs": [
        {
          "output_type": "stream",
          "name": "stdout",
          "text": [
            "Number of rows with negative Profit: 46919\n"
          ]
        }
      ]
    },
    {
      "cell_type": "code",
      "source": [
        "# Remove rows with negative profit\n",
        "car_sales_cleaned = car_sales_winsorized[car_sales_winsorized['Profit'] >= 0].copy()\n",
        "\n",
        "# Check new dataset size\n",
        "print(f\"Original rows: {car_sales_winsorized.shape[0]}\")\n",
        "print(f\"Rows after removing negative profit: {car_sales_cleaned.shape[0]}\")\n"
      ],
      "metadata": {
        "colab": {
          "base_uri": "https://localhost:8080/"
        },
        "id": "XBogh-6oxrg2",
        "outputId": "ffaecb92-fcd2-4f3e-8d1b-d7e032df174f"
      },
      "execution_count": null,
      "outputs": [
        {
          "output_type": "stream",
          "name": "stdout",
          "text": [
            "Original rows: 694488\n",
            "Rows after removing negative profit: 647569\n"
          ]
        }
      ]
    },
    {
      "cell_type": "markdown",
      "source": [
        "### Outliers Investigation"
      ],
      "metadata": {
        "id": "Waaa0_0Wx55T"
      }
    },
    {
      "cell_type": "code",
      "source": [
        "# Columns to check\n",
        "cols_to_check = [\n",
        "    'Sale Price', 'Cost', 'Profit',\n",
        "    'Total Tag Price', 'Car Tag Price', 'Dealer Car Price',\n",
        "    'Profit_per_Car', 'Profit_Margin_per_Car'\n",
        "]\n",
        "\n",
        "# Create a DataFrame indicating outliers per column\n",
        "outlier_flags = pd.DataFrame(index=car_sales_cleaned.index)\n",
        "\n",
        "for col in cols_to_check:\n",
        "    Q1 = car_sales_cleaned[col].quantile(0.25)\n",
        "    Q3 = car_sales_cleaned[col].quantile(0.75)\n",
        "    IQR = Q3 - Q1\n",
        "\n",
        "    # True if row is an outlier in this column\n",
        "    outlier_flags[col + '_outlier'] = ((car_sales_cleaned[col] < (Q1 - 1.5 * IQR)) |\n",
        "                                       (car_sales_cleaned[col] > (Q3 + 1.5 * IQR)))\n",
        "\n",
        "# Count how many rows are outliers in each column\n",
        "print(\"Outlier counts per column:\")\n",
        "print(outlier_flags.sum())\n",
        "\n",
        "# Count rows that are outliers in all columns\n",
        "all_columns_outliers = outlier_flags.all(axis=1).sum()\n",
        "print(f\"\\nNumber of rows that are outliers in all columns: {all_columns_outliers}\")\n",
        "\n",
        "# Count rows that are outliers in at least one column\n",
        "at_least_one_outlier = outlier_flags.any(axis=1).sum()\n",
        "print(f\"Number of rows that are outliers in at least one column: {at_least_one_outlier}\")\n"
      ],
      "metadata": {
        "colab": {
          "base_uri": "https://localhost:8080/"
        },
        "id": "orIQQ_nOy7ir",
        "outputId": "e6d0b7d0-117b-429c-d92c-51e5fd64fb5d"
      },
      "execution_count": null,
      "outputs": [
        {
          "output_type": "stream",
          "name": "stdout",
          "text": [
            "Outlier counts per column:\n",
            "Sale Price_outlier               16657\n",
            "Cost_outlier                     14572\n",
            "Profit_outlier                   18489\n",
            "Total Tag Price_outlier          16983\n",
            "Car Tag Price_outlier             2361\n",
            "Dealer Car Price_outlier          2720\n",
            "Profit_per_Car_outlier            6145\n",
            "Profit_Margin_per_Car_outlier        0\n",
            "dtype: int64\n",
            "\n",
            "Number of rows that are outliers in all columns: 0\n",
            "Number of rows that are outliers in at least one column: 30628\n"
          ]
        }
      ]
    },
    {
      "cell_type": "code",
      "source": [
        "# Columns to check\n",
        "cols_to_check = [\n",
        "    'Sale Price', 'Cost', 'Profit',\n",
        "    'Total Tag Price', 'Car Tag Price', 'Dealer Car Price',\n",
        "    'Profit_per_Car', 'Profit_Margin_per_Car'\n",
        "]\n",
        "\n",
        "# Show the top 5 highest values for each column\n",
        "for col in cols_to_check:\n",
        "    top_values = car_sales_cleaned[col].sort_values(ascending=False).head(5)\n",
        "    print(f\"\\nTop 5 highest values in {col}:\")\n",
        "    print(top_values)\n"
      ],
      "metadata": {
        "colab": {
          "base_uri": "https://localhost:8080/"
        },
        "id": "9K7e0c1SzRSq",
        "outputId": "58994057-5f34-4758-9d9d-6599289f0785"
      },
      "execution_count": null,
      "outputs": [
        {
          "output_type": "stream",
          "name": "stdout",
          "text": [
            "\n",
            "Top 5 highest values in Sale Price:\n",
            "278953    301902.51\n",
            "1615      297589.11\n",
            "425349    296947.56\n",
            "447211    293417.67\n",
            "723161    293180.16\n",
            "Name: Sale Price, dtype: float64\n",
            "\n",
            "Top 5 highest values in Cost:\n",
            "447211    225228.52\n",
            "1615      222518.11\n",
            "105042    221270.26\n",
            "278953    220089.36\n",
            "436387    219994.78\n",
            "Name: Cost, dtype: float64\n",
            "\n",
            "Top 5 highest values in Profit:\n",
            "425349    89084.27\n",
            "363597    87261.99\n",
            "450632    87109.66\n",
            "794751    87034.31\n",
            "393215    87013.02\n",
            "Name: Profit, dtype: float64\n",
            "\n",
            "Top 5 highest values in Total Tag Price:\n",
            "508519    262152.0\n",
            "307200    262152.0\n",
            "340616    262152.0\n",
            "60770     262152.0\n",
            "562707    262152.0\n",
            "Name: Total Tag Price, dtype: float64\n",
            "\n",
            "Top 5 highest values in Car Tag Price:\n",
            "278095    95833.516484\n",
            "26836     95833.516484\n",
            "633114    95833.516484\n",
            "732889    95833.516484\n",
            "775713    95833.516484\n",
            "Name: Car Tag Price, dtype: float64\n",
            "\n",
            "Top 5 highest values in Dealer Car Price:\n",
            "15973     78130.583333\n",
            "583121    78130.583333\n",
            "938085    78003.580000\n",
            "575454    77983.183333\n",
            "173704    77950.760000\n",
            "Name: Dealer Car Price, dtype: float64\n",
            "\n",
            "Top 5 highest values in Profit_per_Car:\n",
            "60984     26045.52\n",
            "763974    26045.52\n",
            "204800    26045.52\n",
            "796659    26045.52\n",
            "68453     26045.52\n",
            "Name: Profit_per_Car, dtype: float64\n",
            "\n",
            "Top 5 highest values in Profit_Margin_per_Car:\n",
            "726441    0.428572\n",
            "583888    0.428572\n",
            "582416    0.428572\n",
            "996623    0.428572\n",
            "853201    0.428572\n",
            "Name: Profit_Margin_per_Car, dtype: float64\n"
          ]
        }
      ]
    },
    {
      "cell_type": "code",
      "source": [
        "# Columns to show\n",
        "cols_to_show = [\n",
        "    'Car Make', 'Car Model', 'Car Age',\n",
        "    'Sale Price', 'Cost', 'Profit',\n",
        "    'Total Tag Price', 'Car Tag Price', 'Dealer Car Price',\n",
        "    'Profit_per_Car', 'Profit_Margin_per_Car'\n",
        "]\n",
        "\n",
        "# For each numeric column, show the rows with the top 5 values\n",
        "for col in ['Sale Price', 'Cost', 'Profit', 'Total Tag Price', 'Car Tag Price']:\n",
        "    top_rows = car_sales_cleaned[cols_to_show].sort_values(by=col, ascending=False).head(5)\n",
        "    print(f\"\\nTop 5 rows for {col}:\")\n",
        "    print(top_rows)\n"
      ],
      "metadata": {
        "colab": {
          "base_uri": "https://localhost:8080/"
        },
        "id": "7vft363PzpAI",
        "outputId": "f82954e2-d6da-4ab5-cc38-5c7eb0dc6f01"
      },
      "execution_count": null,
      "outputs": [
        {
          "output_type": "stream",
          "name": "stdout",
          "text": [
            "\n",
            "Top 5 rows for Sale Price:\n",
            "        Car Make Car Model  Car Age  Sale Price       Cost    Profit  \\\n",
            "278953  Mercedes   S-Class        0   301902.51  220089.36  81813.15   \n",
            "1615    Mercedes   S-Class        1   297589.11  222518.11  75071.00   \n",
            "425349  Mercedes   C-Class        5   296947.56  207863.29  89084.27   \n",
            "447211  Mercedes   E-Class        2   293417.67  225228.52  68189.15   \n",
            "723161  Mercedes       GLE        0   293180.16  209146.83  84033.33   \n",
            "\n",
            "        Total Tag Price  Car Tag Price  Dealer Car Price  Profit_per_Car  \\\n",
            "278953    262152.000000   95055.011765      73363.120000    26035.190000   \n",
            "1615      262152.000000   95055.011765      74172.703333    25023.666667   \n",
            "425349    261762.428571   95772.860215      69287.763333    25813.435000   \n",
            "447211    260459.062500   95833.516484      75076.173333    22729.716667   \n",
            "723161    259800.910112   94486.527473      69715.610000    25932.155000   \n",
            "\n",
            "        Profit_Margin_per_Car  \n",
            "278953               0.371727  \n",
            "1615                 0.337370  \n",
            "425349               0.428571  \n",
            "447211               0.302755  \n",
            "723161               0.401791  \n",
            "\n",
            "Top 5 rows for Cost:\n",
            "        Car Make Car Model  Car Age  Sale Price       Cost    Profit  \\\n",
            "447211  Mercedes   E-Class        2   293417.67  225228.52  68189.15   \n",
            "1615    Mercedes   S-Class        1   297589.11  222518.11  75071.00   \n",
            "105042  Mercedes   C-Class        5   267673.77  221270.26  46403.51   \n",
            "278953  Mercedes   S-Class        0   301902.51  220089.36  81813.15   \n",
            "436387  Mercedes   C-Class        4   292830.72  219994.78  72835.94   \n",
            "\n",
            "        Total Tag Price  Car Tag Price  Dealer Car Price  Profit_per_Car  \\\n",
            "447211    260459.062500   95833.516484      75076.173333    22729.716667   \n",
            "1615      262152.000000   95055.011765      74172.703333    25023.666667   \n",
            "105042    261762.428571   94919.776596      73756.753333    15467.836667   \n",
            "278953    262152.000000   95055.011765      73363.120000    26035.190000   \n",
            "436387    261762.428571   95772.860215      73331.593333    24278.646667   \n",
            "\n",
            "        Profit_Margin_per_Car  \n",
            "447211               0.302755  \n",
            "1615                 0.337370  \n",
            "105042               0.209714  \n",
            "278953               0.371727  \n",
            "436387               0.331080  \n",
            "\n",
            "Top 5 rows for Profit:\n",
            "        Car Make Car Model  Car Age  Sale Price       Cost    Profit  \\\n",
            "425349  Mercedes   C-Class        5   296947.56  207863.29  89084.27   \n",
            "363597  Mercedes       GLE        5   290873.31  203611.32  87261.99   \n",
            "450632       BMW        X5        1   290365.53  203255.87  87109.66   \n",
            "794751  Mercedes   E-Class        2   290114.37  203080.06  87034.31   \n",
            "393215  Mercedes   S-Class        0   290043.39  203030.37  87013.02   \n",
            "\n",
            "        Total Tag Price  Car Tag Price  Dealer Car Price  Profit_per_Car  \\\n",
            "425349    261762.428571   95772.860215      69287.763333       25813.435   \n",
            "363597    259800.910112   94486.527473      67870.440000       25932.155   \n",
            "450632    237255.200000   87112.170213      67751.956667       23510.620   \n",
            "794751    260459.062500   95833.516484      67693.353333       26045.520   \n",
            "393215    262152.000000   95055.011765      67676.790000       26035.190   \n",
            "\n",
            "        Profit_Margin_per_Car  \n",
            "425349               0.428571  \n",
            "363597               0.428571  \n",
            "450632               0.428571  \n",
            "794751               0.428571  \n",
            "393215               0.428571  \n",
            "\n",
            "Top 5 rows for Total Tag Price:\n",
            "        Car Make Car Model  Car Age  Sale Price       Cost    Profit  \\\n",
            "508519  Mercedes   S-Class        3   254891.91  192567.51  62324.40   \n",
            "307200  Mercedes   S-Class        2   234610.74  164227.52  70383.22   \n",
            "340616  Mercedes   S-Class        1   251064.45  182833.49  68230.96   \n",
            "60770   Mercedes   S-Class        0   268626.54  191884.48  76742.06   \n",
            "562707  Mercedes   S-Class        0   269112.48  188378.74  80733.74   \n",
            "\n",
            "        Total Tag Price  Car Tag Price  Dealer Car Price  Profit_per_Car  \\\n",
            "508519         262152.0   94404.411111      64189.170000    20774.800000   \n",
            "307200         262152.0   88867.704545      54742.506667    23461.073333   \n",
            "340616         262152.0   92986.833333      60944.496667    22743.653333   \n",
            "60770          262152.0   89542.180000      63961.493333    25580.686667   \n",
            "562707         262152.0   94425.431579      62792.913333    26035.190000   \n",
            "\n",
            "        Profit_Margin_per_Car  \n",
            "508519               0.323650  \n",
            "307200               0.428571  \n",
            "340616               0.373186  \n",
            "60770                0.399939  \n",
            "562707               0.428571  \n",
            "\n",
            "Top 5 rows for Car Tag Price:\n",
            "        Car Make Car Model  Car Age  Sale Price       Cost    Profit  \\\n",
            "278095  Mercedes   E-Class        0   278539.17  194977.42  83561.75   \n",
            "26836   Mercedes   E-Class        2   180295.76  126207.03  54088.73   \n",
            "633114  Mercedes   E-Class        0   169209.40  118446.58  50762.82   \n",
            "732889  Mercedes   E-Class        0   266497.14  186548.00  79949.14   \n",
            "775713  Mercedes   E-Class        1   177393.04  124175.13  53217.91   \n",
            "\n",
            "        Total Tag Price  Car Tag Price  Dealer Car Price  Profit_per_Car  \\\n",
            "278095    260459.062500   95833.516484      64992.473333        26045.52   \n",
            "26836     198127.208791   95833.516484      63103.515000        26045.52   \n",
            "633114    192283.409091   95833.516484      59223.290000        25381.41   \n",
            "732889    260459.062500   95833.516484      62182.666667        26045.52   \n",
            "775713    192818.521739   95833.516484      62087.565000        26045.52   \n",
            "\n",
            "        Profit_Margin_per_Car  \n",
            "278095               0.428571  \n",
            "26836                0.428571  \n",
            "633114               0.428571  \n",
            "732889               0.428571  \n",
            "775713               0.428571  \n"
          ]
        }
      ]
    },
    {
      "cell_type": "markdown",
      "source": [
        "### Data Exploration"
      ],
      "metadata": {
        "id": "ZgVm3SFEyGnU"
      }
    },
    {
      "cell_type": "code",
      "source": [
        "car_sales_df.head(5)"
      ],
      "metadata": {
        "colab": {
          "base_uri": "https://localhost:8080/",
          "height": 394
        },
        "id": "F_tsWbn7PUnJ",
        "outputId": "0f7a2f83-3f60-43a5-c10b-bd264178c396"
      },
      "execution_count": null,
      "outputs": [
        {
          "output_type": "execute_result",
          "data": {
            "text/plain": [
              "        Date        Salesperson       Customer Name  Customer Age  \\\n",
              "0 2019-04-02         Mary Simon   Kristin Blackwell            42   \n",
              "4 2020-07-03        Brian Cline  Nicholas Fernandez            50   \n",
              "6 2019-02-24     Rebekah Turner     Kenneth Jimenez            25   \n",
              "7 2024-02-12   Jessica Schaefer      Melissa Newman            23   \n",
              "9 2024-08-15  Christopher Scott        Susan Flores            56   \n",
              "\n",
              "  Customer Gender Car Make   Car Model  Car Year  Quantity  Sale Price  ...  \\\n",
              "0            Male  Hyundai    Santa Fe      2019         1    25949.00  ...   \n",
              "4            Male     Audi          A6      2019         1    48629.00  ...   \n",
              "6          Female   Nissan  Pathfinder      2019         3   101629.71  ...   \n",
              "7            Male     Ford      Escape      2020         2    98327.76  ...   \n",
              "9          Female  Hyundai      Tucson      2023         3    86658.39  ...   \n",
              "\n",
              "   Day of Week  Day of Week Num  Season Num Total Tag Price  Car Tag Price  \\\n",
              "0      Tuesday                2           1    27314.736842   27314.736842   \n",
              "4       Friday                5           2    51732.978723   51732.978723   \n",
              "6       Sunday                7           4   102656.272727   34218.757576   \n",
              "7       Monday                1           4   104604.000000   52302.000000   \n",
              "9     Thursday                4           2   101951.047059   33983.682353   \n",
              "\n",
              "   Dealer Car Price Profit_per_Car Profit_Margin_per_Car  Car Age  \\\n",
              "0      22137.550000    3811.450000              0.172171        0   \n",
              "4      38186.630000   10442.370000              0.273456        1   \n",
              "6      33213.503333     663.066667              0.019964        0   \n",
              "7      38774.625000   10389.255000              0.267940        4   \n",
              "9      21759.583333    7126.546667              0.327513        1   \n",
              "\n",
              "   Early Release Purchase  \n",
              "0                    True  \n",
              "4                   False  \n",
              "6                    True  \n",
              "7                   False  \n",
              "9                   False  \n",
              "\n",
              "[5 rows x 31 columns]"
            ],
            "text/html": [
              "\n",
              "  <div id=\"df-19b2b1ca-3aab-4bec-b5e5-a9a7b5007e1b\" class=\"colab-df-container\">\n",
              "    <div>\n",
              "<style scoped>\n",
              "    .dataframe tbody tr th:only-of-type {\n",
              "        vertical-align: middle;\n",
              "    }\n",
              "\n",
              "    .dataframe tbody tr th {\n",
              "        vertical-align: top;\n",
              "    }\n",
              "\n",
              "    .dataframe thead th {\n",
              "        text-align: right;\n",
              "    }\n",
              "</style>\n",
              "<table border=\"1\" class=\"dataframe\">\n",
              "  <thead>\n",
              "    <tr style=\"text-align: right;\">\n",
              "      <th></th>\n",
              "      <th>Date</th>\n",
              "      <th>Salesperson</th>\n",
              "      <th>Customer Name</th>\n",
              "      <th>Customer Age</th>\n",
              "      <th>Customer Gender</th>\n",
              "      <th>Car Make</th>\n",
              "      <th>Car Model</th>\n",
              "      <th>Car Year</th>\n",
              "      <th>Quantity</th>\n",
              "      <th>Sale Price</th>\n",
              "      <th>...</th>\n",
              "      <th>Day of Week</th>\n",
              "      <th>Day of Week Num</th>\n",
              "      <th>Season Num</th>\n",
              "      <th>Total Tag Price</th>\n",
              "      <th>Car Tag Price</th>\n",
              "      <th>Dealer Car Price</th>\n",
              "      <th>Profit_per_Car</th>\n",
              "      <th>Profit_Margin_per_Car</th>\n",
              "      <th>Car Age</th>\n",
              "      <th>Early Release Purchase</th>\n",
              "    </tr>\n",
              "  </thead>\n",
              "  <tbody>\n",
              "    <tr>\n",
              "      <th>0</th>\n",
              "      <td>2019-04-02</td>\n",
              "      <td>Mary Simon</td>\n",
              "      <td>Kristin Blackwell</td>\n",
              "      <td>42</td>\n",
              "      <td>Male</td>\n",
              "      <td>Hyundai</td>\n",
              "      <td>Santa Fe</td>\n",
              "      <td>2019</td>\n",
              "      <td>1</td>\n",
              "      <td>25949.00</td>\n",
              "      <td>...</td>\n",
              "      <td>Tuesday</td>\n",
              "      <td>2</td>\n",
              "      <td>1</td>\n",
              "      <td>27314.736842</td>\n",
              "      <td>27314.736842</td>\n",
              "      <td>22137.550000</td>\n",
              "      <td>3811.450000</td>\n",
              "      <td>0.172171</td>\n",
              "      <td>0</td>\n",
              "      <td>True</td>\n",
              "    </tr>\n",
              "    <tr>\n",
              "      <th>4</th>\n",
              "      <td>2020-07-03</td>\n",
              "      <td>Brian Cline</td>\n",
              "      <td>Nicholas Fernandez</td>\n",
              "      <td>50</td>\n",
              "      <td>Male</td>\n",
              "      <td>Audi</td>\n",
              "      <td>A6</td>\n",
              "      <td>2019</td>\n",
              "      <td>1</td>\n",
              "      <td>48629.00</td>\n",
              "      <td>...</td>\n",
              "      <td>Friday</td>\n",
              "      <td>5</td>\n",
              "      <td>2</td>\n",
              "      <td>51732.978723</td>\n",
              "      <td>51732.978723</td>\n",
              "      <td>38186.630000</td>\n",
              "      <td>10442.370000</td>\n",
              "      <td>0.273456</td>\n",
              "      <td>1</td>\n",
              "      <td>False</td>\n",
              "    </tr>\n",
              "    <tr>\n",
              "      <th>6</th>\n",
              "      <td>2019-02-24</td>\n",
              "      <td>Rebekah Turner</td>\n",
              "      <td>Kenneth Jimenez</td>\n",
              "      <td>25</td>\n",
              "      <td>Female</td>\n",
              "      <td>Nissan</td>\n",
              "      <td>Pathfinder</td>\n",
              "      <td>2019</td>\n",
              "      <td>3</td>\n",
              "      <td>101629.71</td>\n",
              "      <td>...</td>\n",
              "      <td>Sunday</td>\n",
              "      <td>7</td>\n",
              "      <td>4</td>\n",
              "      <td>102656.272727</td>\n",
              "      <td>34218.757576</td>\n",
              "      <td>33213.503333</td>\n",
              "      <td>663.066667</td>\n",
              "      <td>0.019964</td>\n",
              "      <td>0</td>\n",
              "      <td>True</td>\n",
              "    </tr>\n",
              "    <tr>\n",
              "      <th>7</th>\n",
              "      <td>2024-02-12</td>\n",
              "      <td>Jessica Schaefer</td>\n",
              "      <td>Melissa Newman</td>\n",
              "      <td>23</td>\n",
              "      <td>Male</td>\n",
              "      <td>Ford</td>\n",
              "      <td>Escape</td>\n",
              "      <td>2020</td>\n",
              "      <td>2</td>\n",
              "      <td>98327.76</td>\n",
              "      <td>...</td>\n",
              "      <td>Monday</td>\n",
              "      <td>1</td>\n",
              "      <td>4</td>\n",
              "      <td>104604.000000</td>\n",
              "      <td>52302.000000</td>\n",
              "      <td>38774.625000</td>\n",
              "      <td>10389.255000</td>\n",
              "      <td>0.267940</td>\n",
              "      <td>4</td>\n",
              "      <td>False</td>\n",
              "    </tr>\n",
              "    <tr>\n",
              "      <th>9</th>\n",
              "      <td>2024-08-15</td>\n",
              "      <td>Christopher Scott</td>\n",
              "      <td>Susan Flores</td>\n",
              "      <td>56</td>\n",
              "      <td>Female</td>\n",
              "      <td>Hyundai</td>\n",
              "      <td>Tucson</td>\n",
              "      <td>2023</td>\n",
              "      <td>3</td>\n",
              "      <td>86658.39</td>\n",
              "      <td>...</td>\n",
              "      <td>Thursday</td>\n",
              "      <td>4</td>\n",
              "      <td>2</td>\n",
              "      <td>101951.047059</td>\n",
              "      <td>33983.682353</td>\n",
              "      <td>21759.583333</td>\n",
              "      <td>7126.546667</td>\n",
              "      <td>0.327513</td>\n",
              "      <td>1</td>\n",
              "      <td>False</td>\n",
              "    </tr>\n",
              "  </tbody>\n",
              "</table>\n",
              "<p>5 rows × 31 columns</p>\n",
              "</div>\n",
              "    <div class=\"colab-df-buttons\">\n",
              "\n",
              "  <div class=\"colab-df-container\">\n",
              "    <button class=\"colab-df-convert\" onclick=\"convertToInteractive('df-19b2b1ca-3aab-4bec-b5e5-a9a7b5007e1b')\"\n",
              "            title=\"Convert this dataframe to an interactive table.\"\n",
              "            style=\"display:none;\">\n",
              "\n",
              "  <svg xmlns=\"http://www.w3.org/2000/svg\" height=\"24px\" viewBox=\"0 -960 960 960\">\n",
              "    <path d=\"M120-120v-720h720v720H120Zm60-500h600v-160H180v160Zm220 220h160v-160H400v160Zm0 220h160v-160H400v160ZM180-400h160v-160H180v160Zm440 0h160v-160H620v160ZM180-180h160v-160H180v160Zm440 0h160v-160H620v160Z\"/>\n",
              "  </svg>\n",
              "    </button>\n",
              "\n",
              "  <style>\n",
              "    .colab-df-container {\n",
              "      display:flex;\n",
              "      gap: 12px;\n",
              "    }\n",
              "\n",
              "    .colab-df-convert {\n",
              "      background-color: #E8F0FE;\n",
              "      border: none;\n",
              "      border-radius: 50%;\n",
              "      cursor: pointer;\n",
              "      display: none;\n",
              "      fill: #1967D2;\n",
              "      height: 32px;\n",
              "      padding: 0 0 0 0;\n",
              "      width: 32px;\n",
              "    }\n",
              "\n",
              "    .colab-df-convert:hover {\n",
              "      background-color: #E2EBFA;\n",
              "      box-shadow: 0px 1px 2px rgba(60, 64, 67, 0.3), 0px 1px 3px 1px rgba(60, 64, 67, 0.15);\n",
              "      fill: #174EA6;\n",
              "    }\n",
              "\n",
              "    .colab-df-buttons div {\n",
              "      margin-bottom: 4px;\n",
              "    }\n",
              "\n",
              "    [theme=dark] .colab-df-convert {\n",
              "      background-color: #3B4455;\n",
              "      fill: #D2E3FC;\n",
              "    }\n",
              "\n",
              "    [theme=dark] .colab-df-convert:hover {\n",
              "      background-color: #434B5C;\n",
              "      box-shadow: 0px 1px 3px 1px rgba(0, 0, 0, 0.15);\n",
              "      filter: drop-shadow(0px 1px 2px rgba(0, 0, 0, 0.3));\n",
              "      fill: #FFFFFF;\n",
              "    }\n",
              "  </style>\n",
              "\n",
              "    <script>\n",
              "      const buttonEl =\n",
              "        document.querySelector('#df-19b2b1ca-3aab-4bec-b5e5-a9a7b5007e1b button.colab-df-convert');\n",
              "      buttonEl.style.display =\n",
              "        google.colab.kernel.accessAllowed ? 'block' : 'none';\n",
              "\n",
              "      async function convertToInteractive(key) {\n",
              "        const element = document.querySelector('#df-19b2b1ca-3aab-4bec-b5e5-a9a7b5007e1b');\n",
              "        const dataTable =\n",
              "          await google.colab.kernel.invokeFunction('convertToInteractive',\n",
              "                                                    [key], {});\n",
              "        if (!dataTable) return;\n",
              "\n",
              "        const docLinkHtml = 'Like what you see? Visit the ' +\n",
              "          '<a target=\"_blank\" href=https://colab.research.google.com/notebooks/data_table.ipynb>data table notebook</a>'\n",
              "          + ' to learn more about interactive tables.';\n",
              "        element.innerHTML = '';\n",
              "        dataTable['output_type'] = 'display_data';\n",
              "        await google.colab.output.renderOutput(dataTable, element);\n",
              "        const docLink = document.createElement('div');\n",
              "        docLink.innerHTML = docLinkHtml;\n",
              "        element.appendChild(docLink);\n",
              "      }\n",
              "    </script>\n",
              "  </div>\n",
              "\n",
              "\n",
              "    <div id=\"df-6fa2be88-9070-4613-a69b-b1245863a193\">\n",
              "      <button class=\"colab-df-quickchart\" onclick=\"quickchart('df-6fa2be88-9070-4613-a69b-b1245863a193')\"\n",
              "                title=\"Suggest charts\"\n",
              "                style=\"display:none;\">\n",
              "\n",
              "<svg xmlns=\"http://www.w3.org/2000/svg\" height=\"24px\"viewBox=\"0 0 24 24\"\n",
              "     width=\"24px\">\n",
              "    <g>\n",
              "        <path d=\"M19 3H5c-1.1 0-2 .9-2 2v14c0 1.1.9 2 2 2h14c1.1 0 2-.9 2-2V5c0-1.1-.9-2-2-2zM9 17H7v-7h2v7zm4 0h-2V7h2v10zm4 0h-2v-4h2v4z\"/>\n",
              "    </g>\n",
              "</svg>\n",
              "      </button>\n",
              "\n",
              "<style>\n",
              "  .colab-df-quickchart {\n",
              "      --bg-color: #E8F0FE;\n",
              "      --fill-color: #1967D2;\n",
              "      --hover-bg-color: #E2EBFA;\n",
              "      --hover-fill-color: #174EA6;\n",
              "      --disabled-fill-color: #AAA;\n",
              "      --disabled-bg-color: #DDD;\n",
              "  }\n",
              "\n",
              "  [theme=dark] .colab-df-quickchart {\n",
              "      --bg-color: #3B4455;\n",
              "      --fill-color: #D2E3FC;\n",
              "      --hover-bg-color: #434B5C;\n",
              "      --hover-fill-color: #FFFFFF;\n",
              "      --disabled-bg-color: #3B4455;\n",
              "      --disabled-fill-color: #666;\n",
              "  }\n",
              "\n",
              "  .colab-df-quickchart {\n",
              "    background-color: var(--bg-color);\n",
              "    border: none;\n",
              "    border-radius: 50%;\n",
              "    cursor: pointer;\n",
              "    display: none;\n",
              "    fill: var(--fill-color);\n",
              "    height: 32px;\n",
              "    padding: 0;\n",
              "    width: 32px;\n",
              "  }\n",
              "\n",
              "  .colab-df-quickchart:hover {\n",
              "    background-color: var(--hover-bg-color);\n",
              "    box-shadow: 0 1px 2px rgba(60, 64, 67, 0.3), 0 1px 3px 1px rgba(60, 64, 67, 0.15);\n",
              "    fill: var(--button-hover-fill-color);\n",
              "  }\n",
              "\n",
              "  .colab-df-quickchart-complete:disabled,\n",
              "  .colab-df-quickchart-complete:disabled:hover {\n",
              "    background-color: var(--disabled-bg-color);\n",
              "    fill: var(--disabled-fill-color);\n",
              "    box-shadow: none;\n",
              "  }\n",
              "\n",
              "  .colab-df-spinner {\n",
              "    border: 2px solid var(--fill-color);\n",
              "    border-color: transparent;\n",
              "    border-bottom-color: var(--fill-color);\n",
              "    animation:\n",
              "      spin 1s steps(1) infinite;\n",
              "  }\n",
              "\n",
              "  @keyframes spin {\n",
              "    0% {\n",
              "      border-color: transparent;\n",
              "      border-bottom-color: var(--fill-color);\n",
              "      border-left-color: var(--fill-color);\n",
              "    }\n",
              "    20% {\n",
              "      border-color: transparent;\n",
              "      border-left-color: var(--fill-color);\n",
              "      border-top-color: var(--fill-color);\n",
              "    }\n",
              "    30% {\n",
              "      border-color: transparent;\n",
              "      border-left-color: var(--fill-color);\n",
              "      border-top-color: var(--fill-color);\n",
              "      border-right-color: var(--fill-color);\n",
              "    }\n",
              "    40% {\n",
              "      border-color: transparent;\n",
              "      border-right-color: var(--fill-color);\n",
              "      border-top-color: var(--fill-color);\n",
              "    }\n",
              "    60% {\n",
              "      border-color: transparent;\n",
              "      border-right-color: var(--fill-color);\n",
              "    }\n",
              "    80% {\n",
              "      border-color: transparent;\n",
              "      border-right-color: var(--fill-color);\n",
              "      border-bottom-color: var(--fill-color);\n",
              "    }\n",
              "    90% {\n",
              "      border-color: transparent;\n",
              "      border-bottom-color: var(--fill-color);\n",
              "    }\n",
              "  }\n",
              "</style>\n",
              "\n",
              "      <script>\n",
              "        async function quickchart(key) {\n",
              "          const quickchartButtonEl =\n",
              "            document.querySelector('#' + key + ' button');\n",
              "          quickchartButtonEl.disabled = true;  // To prevent multiple clicks.\n",
              "          quickchartButtonEl.classList.add('colab-df-spinner');\n",
              "          try {\n",
              "            const charts = await google.colab.kernel.invokeFunction(\n",
              "                'suggestCharts', [key], {});\n",
              "          } catch (error) {\n",
              "            console.error('Error during call to suggestCharts:', error);\n",
              "          }\n",
              "          quickchartButtonEl.classList.remove('colab-df-spinner');\n",
              "          quickchartButtonEl.classList.add('colab-df-quickchart-complete');\n",
              "        }\n",
              "        (() => {\n",
              "          let quickchartButtonEl =\n",
              "            document.querySelector('#df-6fa2be88-9070-4613-a69b-b1245863a193 button');\n",
              "          quickchartButtonEl.style.display =\n",
              "            google.colab.kernel.accessAllowed ? 'block' : 'none';\n",
              "        })();\n",
              "      </script>\n",
              "    </div>\n",
              "\n",
              "    </div>\n",
              "  </div>\n"
            ],
            "application/vnd.google.colaboratory.intrinsic+json": {
              "type": "dataframe",
              "variable_name": "car_sales_df"
            }
          },
          "metadata": {},
          "execution_count": 22
        }
      ]
    },
    {
      "cell_type": "code",
      "source": [
        "average_profit_margin = car_sales_cleaned['Profit_Margin_per_Car'].mean()\n",
        "print(f\"Average Profit Margin: {average_profit_margin:.2%}\")"
      ],
      "metadata": {
        "colab": {
          "base_uri": "https://localhost:8080/"
        },
        "id": "vSyX2TX2PRet",
        "outputId": "eab2b767-e583-455d-cd41-c79f22261756"
      },
      "execution_count": null,
      "outputs": [
        {
          "output_type": "stream",
          "name": "stdout",
          "text": [
            "Average Profit Margin: 29.39%\n"
          ]
        }
      ]
    },
    {
      "cell_type": "code",
      "source": [
        "# Group by Car Model, calculate average profit margin, and sort from highest to lowest\n",
        "avg_margin_per_model = car_sales_cleaned.groupby('Car Model')['Profit_Margin_per_Car'].mean()\n",
        "avg_margin_per_model_sorted = avg_margin_per_model.sort_values(ascending=False)\n",
        "\n",
        "# Format as percentage with 2 decimals\n",
        "avg_margin_per_model_percent = avg_margin_per_model_sorted.apply(lambda x: f\"{x:.2%}\")\n",
        "\n",
        "print(avg_margin_per_model_percent)"
      ],
      "metadata": {
        "colab": {
          "base_uri": "https://localhost:8080/"
        },
        "id": "Esxd5jlGUUjD",
        "outputId": "c4c4baf9-9e97-41c1-e002-93ac40f73dbb"
      },
      "execution_count": null,
      "outputs": [
        {
          "output_type": "stream",
          "name": "stdout",
          "text": [
            "Car Model\n",
            "C-Class       36.51%\n",
            "E-Class       36.44%\n",
            "S-Class       36.42%\n",
            "GLE           36.36%\n",
            "GLC           36.33%\n",
            "7 Series      35.56%\n",
            "3 Series      35.50%\n",
            "X3            35.45%\n",
            "X5            35.43%\n",
            "5 Series      35.40%\n",
            "A6            34.63%\n",
            "A8            34.59%\n",
            "Q7            34.58%\n",
            "A4            34.57%\n",
            "Q5            34.25%\n",
            "Escape        28.19%\n",
            "F-150         28.14%\n",
            "Explorer      28.06%\n",
            "Sportage      28.06%\n",
            "Forte         27.97%\n",
            "Sorento       27.94%\n",
            "Telluride     27.91%\n",
            "Mustang       27.91%\n",
            "Optima        27.89%\n",
            "Focus         27.84%\n",
            "Tahoe         27.04%\n",
            "Malibu        27.02%\n",
            "Equinox       26.99%\n",
            "Kona          26.98%\n",
            "Elantra       26.97%\n",
            "Tucson        26.97%\n",
            "Santa Fe      26.93%\n",
            "Silverado     26.86%\n",
            "Camaro        26.79%\n",
            "Sonata        26.75%\n",
            "CR-V          26.11%\n",
            "Maxima        26.02%\n",
            "Pilot         26.01%\n",
            "Rogue         25.99%\n",
            "Pathfinder    25.99%\n",
            "Odyssey       25.97%\n",
            "Sentra        25.94%\n",
            "Accord        25.91%\n",
            "Altima        25.81%\n",
            "Civic         25.79%\n",
            "Prius         25.17%\n",
            "Camry         25.17%\n",
            "Corolla       25.12%\n",
            "RAV4          25.09%\n",
            "Highlander    25.03%\n",
            "Name: Profit_Margin_per_Car, dtype: object\n"
          ]
        }
      ]
    },
    {
      "cell_type": "code",
      "source": [
        "# Group by Car Age and calculate average discount\n",
        "avg_discount_per_age = car_sales_cleaned.groupby('Car Age')['Discount'].mean()\n",
        "\n",
        "# Format as percentage with 2 decimals\n",
        "avg_discount_per_age_percent = avg_discount_per_age.apply(lambda x: f\"{x:.2%}\")\n",
        "\n",
        "print(avg_discount_per_age_percent)\n"
      ],
      "metadata": {
        "colab": {
          "base_uri": "https://localhost:8080/"
        },
        "id": "Ld-LgkF4dkOX",
        "outputId": "07c4230a-68fe-4b9c-d8b2-9343aecb2866"
      },
      "execution_count": null,
      "outputs": [
        {
          "output_type": "stream",
          "name": "stdout",
          "text": [
            "Car Age\n",
            "0    6.02%\n",
            "1    6.03%\n",
            "2    6.01%\n",
            "3    6.00%\n",
            "4    6.04%\n",
            "5    5.99%\n",
            "6    6.01%\n",
            "Name: Discount, dtype: object\n"
          ]
        }
      ]
    },
    {
      "cell_type": "code",
      "source": [
        "car_sales_cleaned.groupby('Car Age')['Dealer Car Price'].count()"
      ],
      "metadata": {
        "colab": {
          "base_uri": "https://localhost:8080/",
          "height": 335
        },
        "id": "W8HdqfwrecTx",
        "outputId": "299ffe79-f7a0-4345-e7ad-941fc92b7eda"
      },
      "execution_count": null,
      "outputs": [
        {
          "output_type": "execute_result",
          "data": {
            "text/plain": [
              "Car Age\n",
              "0    247075\n",
              "1    114026\n",
              "2     95434\n",
              "3     76224\n",
              "4     57566\n",
              "5     38170\n",
              "6     19074\n",
              "Name: Dealer Car Price, dtype: int64"
            ],
            "text/html": [
              "<div>\n",
              "<style scoped>\n",
              "    .dataframe tbody tr th:only-of-type {\n",
              "        vertical-align: middle;\n",
              "    }\n",
              "\n",
              "    .dataframe tbody tr th {\n",
              "        vertical-align: top;\n",
              "    }\n",
              "\n",
              "    .dataframe thead th {\n",
              "        text-align: right;\n",
              "    }\n",
              "</style>\n",
              "<table border=\"1\" class=\"dataframe\">\n",
              "  <thead>\n",
              "    <tr style=\"text-align: right;\">\n",
              "      <th></th>\n",
              "      <th>Dealer Car Price</th>\n",
              "    </tr>\n",
              "    <tr>\n",
              "      <th>Car Age</th>\n",
              "      <th></th>\n",
              "    </tr>\n",
              "  </thead>\n",
              "  <tbody>\n",
              "    <tr>\n",
              "      <th>0</th>\n",
              "      <td>247075</td>\n",
              "    </tr>\n",
              "    <tr>\n",
              "      <th>1</th>\n",
              "      <td>114026</td>\n",
              "    </tr>\n",
              "    <tr>\n",
              "      <th>2</th>\n",
              "      <td>95434</td>\n",
              "    </tr>\n",
              "    <tr>\n",
              "      <th>3</th>\n",
              "      <td>76224</td>\n",
              "    </tr>\n",
              "    <tr>\n",
              "      <th>4</th>\n",
              "      <td>57566</td>\n",
              "    </tr>\n",
              "    <tr>\n",
              "      <th>5</th>\n",
              "      <td>38170</td>\n",
              "    </tr>\n",
              "    <tr>\n",
              "      <th>6</th>\n",
              "      <td>19074</td>\n",
              "    </tr>\n",
              "  </tbody>\n",
              "</table>\n",
              "</div><br><label><b>dtype:</b> int64</label>"
            ]
          },
          "metadata": {},
          "execution_count": 26
        }
      ]
    },
    {
      "cell_type": "code",
      "source": [
        "car_sales_cleaned.info()"
      ],
      "metadata": {
        "colab": {
          "base_uri": "https://localhost:8080/"
        },
        "id": "vIvcfs2s3G77",
        "outputId": "5945c486-2fd3-4f3c-a64b-90b058b76e7f"
      },
      "execution_count": null,
      "outputs": [
        {
          "output_type": "stream",
          "name": "stdout",
          "text": [
            "<class 'pandas.core.frame.DataFrame'>\n",
            "Index: 647569 entries, 0 to 1000267\n",
            "Data columns (total 31 columns):\n",
            " #   Column                  Non-Null Count   Dtype         \n",
            "---  ------                  --------------   -----         \n",
            " 0   Date                    647569 non-null  datetime64[ns]\n",
            " 1   Salesperson             647569 non-null  object        \n",
            " 2   Customer Name           647569 non-null  object        \n",
            " 3   Customer Age            647569 non-null  int64         \n",
            " 4   Customer Gender         647569 non-null  object        \n",
            " 5   Car Make                647569 non-null  object        \n",
            " 6   Car Model               647569 non-null  object        \n",
            " 7   Car Year                647569 non-null  int64         \n",
            " 8   Quantity                647569 non-null  int64         \n",
            " 9   Sale Price              647569 non-null  float64       \n",
            " 10  Cost                    647569 non-null  float64       \n",
            " 11  Profit                  647569 non-null  float64       \n",
            " 12  Discount                647569 non-null  float64       \n",
            " 13  Payment Method          647569 non-null  object        \n",
            " 14  Commission Rate         647569 non-null  float64       \n",
            " 15  Commission Earned       647569 non-null  float64       \n",
            " 16  Sales Region            647569 non-null  object        \n",
            " 17  Season                  647569 non-null  object        \n",
            " 18  Sale Year               647569 non-null  int32         \n",
            " 19  Sale Month              647569 non-null  int32         \n",
            " 20  Sale Quarter            647569 non-null  int32         \n",
            " 21  Day of Week             647569 non-null  object        \n",
            " 22  Day of Week Num         647569 non-null  int64         \n",
            " 23  Season Num              647569 non-null  int64         \n",
            " 24  Total Tag Price         647569 non-null  float64       \n",
            " 25  Car Tag Price           647569 non-null  float64       \n",
            " 26  Dealer Car Price        647569 non-null  float64       \n",
            " 27  Profit_per_Car          647569 non-null  float64       \n",
            " 28  Profit_Margin_per_Car   647569 non-null  float64       \n",
            " 29  Car Age                 647569 non-null  int64         \n",
            " 30  Early Release Purchase  647569 non-null  bool          \n",
            "dtypes: bool(1), datetime64[ns](1), float64(11), int32(3), int64(6), object(9)\n",
            "memory usage: 146.4+ MB\n"
          ]
        }
      ]
    },
    {
      "cell_type": "code",
      "source": [
        "# Count how many times each combination occurs\n",
        "duplicate_counts = car_sales_cleaned.groupby(['Salesperson', 'Customer Name', 'Date']).size().reset_index(name='Count')\n",
        "\n",
        "# Filter only those with Count > 1\n",
        "duplicate_counts = duplicate_counts[duplicate_counts['Count'] > 1]\n",
        "\n",
        "print(f\"Number of duplicate combinations: {duplicate_counts.shape[0]}\")\n",
        "duplicate_counts.head()\n"
      ],
      "metadata": {
        "colab": {
          "base_uri": "https://localhost:8080/",
          "height": 223
        },
        "id": "YRKTOLrj4YYE",
        "outputId": "d4c39714-ce7b-42dd-b6a7-381841a73065"
      },
      "execution_count": null,
      "outputs": [
        {
          "output_type": "stream",
          "name": "stdout",
          "text": [
            "Number of duplicate combinations: 36\n"
          ]
        },
        {
          "output_type": "execute_result",
          "data": {
            "text/plain": [
              "         Salesperson     Customer Name       Date  Count\n",
              "27706   Angela Brown        Chad Clark 2018-04-12      2\n",
              "27771   Angela Brown  Charles Lawrence 2018-02-10      2\n",
              "40856  Benjamin Beck       Chad Jacobs 2020-08-07      2\n",
              "51471  Benjamin Beck     William Davis 2023-10-27      2\n",
              "54969    Brian Cline   Deborah Wallace 2022-08-12      2"
            ],
            "text/html": [
              "\n",
              "  <div id=\"df-1ecbac45-16d8-4ff9-80c1-4d8ab7a7e759\" class=\"colab-df-container\">\n",
              "    <div>\n",
              "<style scoped>\n",
              "    .dataframe tbody tr th:only-of-type {\n",
              "        vertical-align: middle;\n",
              "    }\n",
              "\n",
              "    .dataframe tbody tr th {\n",
              "        vertical-align: top;\n",
              "    }\n",
              "\n",
              "    .dataframe thead th {\n",
              "        text-align: right;\n",
              "    }\n",
              "</style>\n",
              "<table border=\"1\" class=\"dataframe\">\n",
              "  <thead>\n",
              "    <tr style=\"text-align: right;\">\n",
              "      <th></th>\n",
              "      <th>Salesperson</th>\n",
              "      <th>Customer Name</th>\n",
              "      <th>Date</th>\n",
              "      <th>Count</th>\n",
              "    </tr>\n",
              "  </thead>\n",
              "  <tbody>\n",
              "    <tr>\n",
              "      <th>27706</th>\n",
              "      <td>Angela Brown</td>\n",
              "      <td>Chad Clark</td>\n",
              "      <td>2018-04-12</td>\n",
              "      <td>2</td>\n",
              "    </tr>\n",
              "    <tr>\n",
              "      <th>27771</th>\n",
              "      <td>Angela Brown</td>\n",
              "      <td>Charles Lawrence</td>\n",
              "      <td>2018-02-10</td>\n",
              "      <td>2</td>\n",
              "    </tr>\n",
              "    <tr>\n",
              "      <th>40856</th>\n",
              "      <td>Benjamin Beck</td>\n",
              "      <td>Chad Jacobs</td>\n",
              "      <td>2020-08-07</td>\n",
              "      <td>2</td>\n",
              "    </tr>\n",
              "    <tr>\n",
              "      <th>51471</th>\n",
              "      <td>Benjamin Beck</td>\n",
              "      <td>William Davis</td>\n",
              "      <td>2023-10-27</td>\n",
              "      <td>2</td>\n",
              "    </tr>\n",
              "    <tr>\n",
              "      <th>54969</th>\n",
              "      <td>Brian Cline</td>\n",
              "      <td>Deborah Wallace</td>\n",
              "      <td>2022-08-12</td>\n",
              "      <td>2</td>\n",
              "    </tr>\n",
              "  </tbody>\n",
              "</table>\n",
              "</div>\n",
              "    <div class=\"colab-df-buttons\">\n",
              "\n",
              "  <div class=\"colab-df-container\">\n",
              "    <button class=\"colab-df-convert\" onclick=\"convertToInteractive('df-1ecbac45-16d8-4ff9-80c1-4d8ab7a7e759')\"\n",
              "            title=\"Convert this dataframe to an interactive table.\"\n",
              "            style=\"display:none;\">\n",
              "\n",
              "  <svg xmlns=\"http://www.w3.org/2000/svg\" height=\"24px\" viewBox=\"0 -960 960 960\">\n",
              "    <path d=\"M120-120v-720h720v720H120Zm60-500h600v-160H180v160Zm220 220h160v-160H400v160Zm0 220h160v-160H400v160ZM180-400h160v-160H180v160Zm440 0h160v-160H620v160ZM180-180h160v-160H180v160Zm440 0h160v-160H620v160Z\"/>\n",
              "  </svg>\n",
              "    </button>\n",
              "\n",
              "  <style>\n",
              "    .colab-df-container {\n",
              "      display:flex;\n",
              "      gap: 12px;\n",
              "    }\n",
              "\n",
              "    .colab-df-convert {\n",
              "      background-color: #E8F0FE;\n",
              "      border: none;\n",
              "      border-radius: 50%;\n",
              "      cursor: pointer;\n",
              "      display: none;\n",
              "      fill: #1967D2;\n",
              "      height: 32px;\n",
              "      padding: 0 0 0 0;\n",
              "      width: 32px;\n",
              "    }\n",
              "\n",
              "    .colab-df-convert:hover {\n",
              "      background-color: #E2EBFA;\n",
              "      box-shadow: 0px 1px 2px rgba(60, 64, 67, 0.3), 0px 1px 3px 1px rgba(60, 64, 67, 0.15);\n",
              "      fill: #174EA6;\n",
              "    }\n",
              "\n",
              "    .colab-df-buttons div {\n",
              "      margin-bottom: 4px;\n",
              "    }\n",
              "\n",
              "    [theme=dark] .colab-df-convert {\n",
              "      background-color: #3B4455;\n",
              "      fill: #D2E3FC;\n",
              "    }\n",
              "\n",
              "    [theme=dark] .colab-df-convert:hover {\n",
              "      background-color: #434B5C;\n",
              "      box-shadow: 0px 1px 3px 1px rgba(0, 0, 0, 0.15);\n",
              "      filter: drop-shadow(0px 1px 2px rgba(0, 0, 0, 0.3));\n",
              "      fill: #FFFFFF;\n",
              "    }\n",
              "  </style>\n",
              "\n",
              "    <script>\n",
              "      const buttonEl =\n",
              "        document.querySelector('#df-1ecbac45-16d8-4ff9-80c1-4d8ab7a7e759 button.colab-df-convert');\n",
              "      buttonEl.style.display =\n",
              "        google.colab.kernel.accessAllowed ? 'block' : 'none';\n",
              "\n",
              "      async function convertToInteractive(key) {\n",
              "        const element = document.querySelector('#df-1ecbac45-16d8-4ff9-80c1-4d8ab7a7e759');\n",
              "        const dataTable =\n",
              "          await google.colab.kernel.invokeFunction('convertToInteractive',\n",
              "                                                    [key], {});\n",
              "        if (!dataTable) return;\n",
              "\n",
              "        const docLinkHtml = 'Like what you see? Visit the ' +\n",
              "          '<a target=\"_blank\" href=https://colab.research.google.com/notebooks/data_table.ipynb>data table notebook</a>'\n",
              "          + ' to learn more about interactive tables.';\n",
              "        element.innerHTML = '';\n",
              "        dataTable['output_type'] = 'display_data';\n",
              "        await google.colab.output.renderOutput(dataTable, element);\n",
              "        const docLink = document.createElement('div');\n",
              "        docLink.innerHTML = docLinkHtml;\n",
              "        element.appendChild(docLink);\n",
              "      }\n",
              "    </script>\n",
              "  </div>\n",
              "\n",
              "\n",
              "    <div id=\"df-644091c0-e1e4-4ef7-87b1-e04ee5f73e62\">\n",
              "      <button class=\"colab-df-quickchart\" onclick=\"quickchart('df-644091c0-e1e4-4ef7-87b1-e04ee5f73e62')\"\n",
              "                title=\"Suggest charts\"\n",
              "                style=\"display:none;\">\n",
              "\n",
              "<svg xmlns=\"http://www.w3.org/2000/svg\" height=\"24px\"viewBox=\"0 0 24 24\"\n",
              "     width=\"24px\">\n",
              "    <g>\n",
              "        <path d=\"M19 3H5c-1.1 0-2 .9-2 2v14c0 1.1.9 2 2 2h14c1.1 0 2-.9 2-2V5c0-1.1-.9-2-2-2zM9 17H7v-7h2v7zm4 0h-2V7h2v10zm4 0h-2v-4h2v4z\"/>\n",
              "    </g>\n",
              "</svg>\n",
              "      </button>\n",
              "\n",
              "<style>\n",
              "  .colab-df-quickchart {\n",
              "      --bg-color: #E8F0FE;\n",
              "      --fill-color: #1967D2;\n",
              "      --hover-bg-color: #E2EBFA;\n",
              "      --hover-fill-color: #174EA6;\n",
              "      --disabled-fill-color: #AAA;\n",
              "      --disabled-bg-color: #DDD;\n",
              "  }\n",
              "\n",
              "  [theme=dark] .colab-df-quickchart {\n",
              "      --bg-color: #3B4455;\n",
              "      --fill-color: #D2E3FC;\n",
              "      --hover-bg-color: #434B5C;\n",
              "      --hover-fill-color: #FFFFFF;\n",
              "      --disabled-bg-color: #3B4455;\n",
              "      --disabled-fill-color: #666;\n",
              "  }\n",
              "\n",
              "  .colab-df-quickchart {\n",
              "    background-color: var(--bg-color);\n",
              "    border: none;\n",
              "    border-radius: 50%;\n",
              "    cursor: pointer;\n",
              "    display: none;\n",
              "    fill: var(--fill-color);\n",
              "    height: 32px;\n",
              "    padding: 0;\n",
              "    width: 32px;\n",
              "  }\n",
              "\n",
              "  .colab-df-quickchart:hover {\n",
              "    background-color: var(--hover-bg-color);\n",
              "    box-shadow: 0 1px 2px rgba(60, 64, 67, 0.3), 0 1px 3px 1px rgba(60, 64, 67, 0.15);\n",
              "    fill: var(--button-hover-fill-color);\n",
              "  }\n",
              "\n",
              "  .colab-df-quickchart-complete:disabled,\n",
              "  .colab-df-quickchart-complete:disabled:hover {\n",
              "    background-color: var(--disabled-bg-color);\n",
              "    fill: var(--disabled-fill-color);\n",
              "    box-shadow: none;\n",
              "  }\n",
              "\n",
              "  .colab-df-spinner {\n",
              "    border: 2px solid var(--fill-color);\n",
              "    border-color: transparent;\n",
              "    border-bottom-color: var(--fill-color);\n",
              "    animation:\n",
              "      spin 1s steps(1) infinite;\n",
              "  }\n",
              "\n",
              "  @keyframes spin {\n",
              "    0% {\n",
              "      border-color: transparent;\n",
              "      border-bottom-color: var(--fill-color);\n",
              "      border-left-color: var(--fill-color);\n",
              "    }\n",
              "    20% {\n",
              "      border-color: transparent;\n",
              "      border-left-color: var(--fill-color);\n",
              "      border-top-color: var(--fill-color);\n",
              "    }\n",
              "    30% {\n",
              "      border-color: transparent;\n",
              "      border-left-color: var(--fill-color);\n",
              "      border-top-color: var(--fill-color);\n",
              "      border-right-color: var(--fill-color);\n",
              "    }\n",
              "    40% {\n",
              "      border-color: transparent;\n",
              "      border-right-color: var(--fill-color);\n",
              "      border-top-color: var(--fill-color);\n",
              "    }\n",
              "    60% {\n",
              "      border-color: transparent;\n",
              "      border-right-color: var(--fill-color);\n",
              "    }\n",
              "    80% {\n",
              "      border-color: transparent;\n",
              "      border-right-color: var(--fill-color);\n",
              "      border-bottom-color: var(--fill-color);\n",
              "    }\n",
              "    90% {\n",
              "      border-color: transparent;\n",
              "      border-bottom-color: var(--fill-color);\n",
              "    }\n",
              "  }\n",
              "</style>\n",
              "\n",
              "      <script>\n",
              "        async function quickchart(key) {\n",
              "          const quickchartButtonEl =\n",
              "            document.querySelector('#' + key + ' button');\n",
              "          quickchartButtonEl.disabled = true;  // To prevent multiple clicks.\n",
              "          quickchartButtonEl.classList.add('colab-df-spinner');\n",
              "          try {\n",
              "            const charts = await google.colab.kernel.invokeFunction(\n",
              "                'suggestCharts', [key], {});\n",
              "          } catch (error) {\n",
              "            console.error('Error during call to suggestCharts:', error);\n",
              "          }\n",
              "          quickchartButtonEl.classList.remove('colab-df-spinner');\n",
              "          quickchartButtonEl.classList.add('colab-df-quickchart-complete');\n",
              "        }\n",
              "        (() => {\n",
              "          let quickchartButtonEl =\n",
              "            document.querySelector('#df-644091c0-e1e4-4ef7-87b1-e04ee5f73e62 button');\n",
              "          quickchartButtonEl.style.display =\n",
              "            google.colab.kernel.accessAllowed ? 'block' : 'none';\n",
              "        })();\n",
              "      </script>\n",
              "    </div>\n",
              "\n",
              "    </div>\n",
              "  </div>\n"
            ],
            "application/vnd.google.colaboratory.intrinsic+json": {
              "type": "dataframe",
              "variable_name": "duplicate_counts",
              "summary": "{\n  \"name\": \"duplicate_counts\",\n  \"rows\": 36,\n  \"fields\": [\n    {\n      \"column\": \"Salesperson\",\n      \"properties\": {\n        \"dtype\": \"string\",\n        \"num_unique_values\": 30,\n        \"samples\": [\n          \"Thomas Morrow\",\n          \"Lori Jacobs\",\n          \"Robin Cantrell\"\n        ],\n        \"semantic_type\": \"\",\n        \"description\": \"\"\n      }\n    },\n    {\n      \"column\": \"Customer Name\",\n      \"properties\": {\n        \"dtype\": \"string\",\n        \"num_unique_values\": 36,\n        \"samples\": [\n          \"Matthew Cruz\",\n          \"John Anderson\",\n          \"Ryan Jones\"\n        ],\n        \"semantic_type\": \"\",\n        \"description\": \"\"\n      }\n    },\n    {\n      \"column\": \"Date\",\n      \"properties\": {\n        \"dtype\": \"date\",\n        \"min\": \"2018-02-10 00:00:00\",\n        \"max\": \"2024-12-04 00:00:00\",\n        \"num_unique_values\": 36,\n        \"samples\": [\n          \"2023-09-17 00:00:00\",\n          \"2021-10-26 00:00:00\",\n          \"2024-01-27 00:00:00\"\n        ],\n        \"semantic_type\": \"\",\n        \"description\": \"\"\n      }\n    },\n    {\n      \"column\": \"Count\",\n      \"properties\": {\n        \"dtype\": \"number\",\n        \"std\": 0,\n        \"min\": 2,\n        \"max\": 2,\n        \"num_unique_values\": 1,\n        \"samples\": [\n          2\n        ],\n        \"semantic_type\": \"\",\n        \"description\": \"\"\n      }\n    }\n  ]\n}"
            }
          },
          "metadata": {},
          "execution_count": 28
        }
      ]
    },
    {
      "cell_type": "code",
      "source": [
        "# Merge the Quantity column for the duplicates\n",
        "duplicates_with_qty = pd.merge(\n",
        "    duplicate_counts,\n",
        "    car_sales_cleaned[['Salesperson', 'Customer Name', 'Date', 'Quantity']],\n",
        "    on=['Salesperson', 'Customer Name', 'Date'],\n",
        "    how='left'\n",
        ")\n",
        "\n",
        "# Show the first few rows\n",
        "duplicates_with_qty.head()\n"
      ],
      "metadata": {
        "colab": {
          "base_uri": "https://localhost:8080/",
          "height": 206
        },
        "id": "ZyoyjWMh3_CV",
        "outputId": "22e1fc40-771f-4f29-a0ed-18a1203b427a"
      },
      "execution_count": null,
      "outputs": [
        {
          "output_type": "execute_result",
          "data": {
            "text/plain": [
              "     Salesperson     Customer Name       Date  Count  Quantity\n",
              "0   Angela Brown        Chad Clark 2018-04-12      2         2\n",
              "1   Angela Brown        Chad Clark 2018-04-12      2         2\n",
              "2   Angela Brown  Charles Lawrence 2018-02-10      2         2\n",
              "3   Angela Brown  Charles Lawrence 2018-02-10      2         2\n",
              "4  Benjamin Beck       Chad Jacobs 2020-08-07      2         1"
            ],
            "text/html": [
              "\n",
              "  <div id=\"df-4fb40935-e961-4508-816b-e3d34c4e19e8\" class=\"colab-df-container\">\n",
              "    <div>\n",
              "<style scoped>\n",
              "    .dataframe tbody tr th:only-of-type {\n",
              "        vertical-align: middle;\n",
              "    }\n",
              "\n",
              "    .dataframe tbody tr th {\n",
              "        vertical-align: top;\n",
              "    }\n",
              "\n",
              "    .dataframe thead th {\n",
              "        text-align: right;\n",
              "    }\n",
              "</style>\n",
              "<table border=\"1\" class=\"dataframe\">\n",
              "  <thead>\n",
              "    <tr style=\"text-align: right;\">\n",
              "      <th></th>\n",
              "      <th>Salesperson</th>\n",
              "      <th>Customer Name</th>\n",
              "      <th>Date</th>\n",
              "      <th>Count</th>\n",
              "      <th>Quantity</th>\n",
              "    </tr>\n",
              "  </thead>\n",
              "  <tbody>\n",
              "    <tr>\n",
              "      <th>0</th>\n",
              "      <td>Angela Brown</td>\n",
              "      <td>Chad Clark</td>\n",
              "      <td>2018-04-12</td>\n",
              "      <td>2</td>\n",
              "      <td>2</td>\n",
              "    </tr>\n",
              "    <tr>\n",
              "      <th>1</th>\n",
              "      <td>Angela Brown</td>\n",
              "      <td>Chad Clark</td>\n",
              "      <td>2018-04-12</td>\n",
              "      <td>2</td>\n",
              "      <td>2</td>\n",
              "    </tr>\n",
              "    <tr>\n",
              "      <th>2</th>\n",
              "      <td>Angela Brown</td>\n",
              "      <td>Charles Lawrence</td>\n",
              "      <td>2018-02-10</td>\n",
              "      <td>2</td>\n",
              "      <td>2</td>\n",
              "    </tr>\n",
              "    <tr>\n",
              "      <th>3</th>\n",
              "      <td>Angela Brown</td>\n",
              "      <td>Charles Lawrence</td>\n",
              "      <td>2018-02-10</td>\n",
              "      <td>2</td>\n",
              "      <td>2</td>\n",
              "    </tr>\n",
              "    <tr>\n",
              "      <th>4</th>\n",
              "      <td>Benjamin Beck</td>\n",
              "      <td>Chad Jacobs</td>\n",
              "      <td>2020-08-07</td>\n",
              "      <td>2</td>\n",
              "      <td>1</td>\n",
              "    </tr>\n",
              "  </tbody>\n",
              "</table>\n",
              "</div>\n",
              "    <div class=\"colab-df-buttons\">\n",
              "\n",
              "  <div class=\"colab-df-container\">\n",
              "    <button class=\"colab-df-convert\" onclick=\"convertToInteractive('df-4fb40935-e961-4508-816b-e3d34c4e19e8')\"\n",
              "            title=\"Convert this dataframe to an interactive table.\"\n",
              "            style=\"display:none;\">\n",
              "\n",
              "  <svg xmlns=\"http://www.w3.org/2000/svg\" height=\"24px\" viewBox=\"0 -960 960 960\">\n",
              "    <path d=\"M120-120v-720h720v720H120Zm60-500h600v-160H180v160Zm220 220h160v-160H400v160Zm0 220h160v-160H400v160ZM180-400h160v-160H180v160Zm440 0h160v-160H620v160ZM180-180h160v-160H180v160Zm440 0h160v-160H620v160Z\"/>\n",
              "  </svg>\n",
              "    </button>\n",
              "\n",
              "  <style>\n",
              "    .colab-df-container {\n",
              "      display:flex;\n",
              "      gap: 12px;\n",
              "    }\n",
              "\n",
              "    .colab-df-convert {\n",
              "      background-color: #E8F0FE;\n",
              "      border: none;\n",
              "      border-radius: 50%;\n",
              "      cursor: pointer;\n",
              "      display: none;\n",
              "      fill: #1967D2;\n",
              "      height: 32px;\n",
              "      padding: 0 0 0 0;\n",
              "      width: 32px;\n",
              "    }\n",
              "\n",
              "    .colab-df-convert:hover {\n",
              "      background-color: #E2EBFA;\n",
              "      box-shadow: 0px 1px 2px rgba(60, 64, 67, 0.3), 0px 1px 3px 1px rgba(60, 64, 67, 0.15);\n",
              "      fill: #174EA6;\n",
              "    }\n",
              "\n",
              "    .colab-df-buttons div {\n",
              "      margin-bottom: 4px;\n",
              "    }\n",
              "\n",
              "    [theme=dark] .colab-df-convert {\n",
              "      background-color: #3B4455;\n",
              "      fill: #D2E3FC;\n",
              "    }\n",
              "\n",
              "    [theme=dark] .colab-df-convert:hover {\n",
              "      background-color: #434B5C;\n",
              "      box-shadow: 0px 1px 3px 1px rgba(0, 0, 0, 0.15);\n",
              "      filter: drop-shadow(0px 1px 2px rgba(0, 0, 0, 0.3));\n",
              "      fill: #FFFFFF;\n",
              "    }\n",
              "  </style>\n",
              "\n",
              "    <script>\n",
              "      const buttonEl =\n",
              "        document.querySelector('#df-4fb40935-e961-4508-816b-e3d34c4e19e8 button.colab-df-convert');\n",
              "      buttonEl.style.display =\n",
              "        google.colab.kernel.accessAllowed ? 'block' : 'none';\n",
              "\n",
              "      async function convertToInteractive(key) {\n",
              "        const element = document.querySelector('#df-4fb40935-e961-4508-816b-e3d34c4e19e8');\n",
              "        const dataTable =\n",
              "          await google.colab.kernel.invokeFunction('convertToInteractive',\n",
              "                                                    [key], {});\n",
              "        if (!dataTable) return;\n",
              "\n",
              "        const docLinkHtml = 'Like what you see? Visit the ' +\n",
              "          '<a target=\"_blank\" href=https://colab.research.google.com/notebooks/data_table.ipynb>data table notebook</a>'\n",
              "          + ' to learn more about interactive tables.';\n",
              "        element.innerHTML = '';\n",
              "        dataTable['output_type'] = 'display_data';\n",
              "        await google.colab.output.renderOutput(dataTable, element);\n",
              "        const docLink = document.createElement('div');\n",
              "        docLink.innerHTML = docLinkHtml;\n",
              "        element.appendChild(docLink);\n",
              "      }\n",
              "    </script>\n",
              "  </div>\n",
              "\n",
              "\n",
              "    <div id=\"df-79c2697d-14d5-4f21-b8fd-1c17d319314b\">\n",
              "      <button class=\"colab-df-quickchart\" onclick=\"quickchart('df-79c2697d-14d5-4f21-b8fd-1c17d319314b')\"\n",
              "                title=\"Suggest charts\"\n",
              "                style=\"display:none;\">\n",
              "\n",
              "<svg xmlns=\"http://www.w3.org/2000/svg\" height=\"24px\"viewBox=\"0 0 24 24\"\n",
              "     width=\"24px\">\n",
              "    <g>\n",
              "        <path d=\"M19 3H5c-1.1 0-2 .9-2 2v14c0 1.1.9 2 2 2h14c1.1 0 2-.9 2-2V5c0-1.1-.9-2-2-2zM9 17H7v-7h2v7zm4 0h-2V7h2v10zm4 0h-2v-4h2v4z\"/>\n",
              "    </g>\n",
              "</svg>\n",
              "      </button>\n",
              "\n",
              "<style>\n",
              "  .colab-df-quickchart {\n",
              "      --bg-color: #E8F0FE;\n",
              "      --fill-color: #1967D2;\n",
              "      --hover-bg-color: #E2EBFA;\n",
              "      --hover-fill-color: #174EA6;\n",
              "      --disabled-fill-color: #AAA;\n",
              "      --disabled-bg-color: #DDD;\n",
              "  }\n",
              "\n",
              "  [theme=dark] .colab-df-quickchart {\n",
              "      --bg-color: #3B4455;\n",
              "      --fill-color: #D2E3FC;\n",
              "      --hover-bg-color: #434B5C;\n",
              "      --hover-fill-color: #FFFFFF;\n",
              "      --disabled-bg-color: #3B4455;\n",
              "      --disabled-fill-color: #666;\n",
              "  }\n",
              "\n",
              "  .colab-df-quickchart {\n",
              "    background-color: var(--bg-color);\n",
              "    border: none;\n",
              "    border-radius: 50%;\n",
              "    cursor: pointer;\n",
              "    display: none;\n",
              "    fill: var(--fill-color);\n",
              "    height: 32px;\n",
              "    padding: 0;\n",
              "    width: 32px;\n",
              "  }\n",
              "\n",
              "  .colab-df-quickchart:hover {\n",
              "    background-color: var(--hover-bg-color);\n",
              "    box-shadow: 0 1px 2px rgba(60, 64, 67, 0.3), 0 1px 3px 1px rgba(60, 64, 67, 0.15);\n",
              "    fill: var(--button-hover-fill-color);\n",
              "  }\n",
              "\n",
              "  .colab-df-quickchart-complete:disabled,\n",
              "  .colab-df-quickchart-complete:disabled:hover {\n",
              "    background-color: var(--disabled-bg-color);\n",
              "    fill: var(--disabled-fill-color);\n",
              "    box-shadow: none;\n",
              "  }\n",
              "\n",
              "  .colab-df-spinner {\n",
              "    border: 2px solid var(--fill-color);\n",
              "    border-color: transparent;\n",
              "    border-bottom-color: var(--fill-color);\n",
              "    animation:\n",
              "      spin 1s steps(1) infinite;\n",
              "  }\n",
              "\n",
              "  @keyframes spin {\n",
              "    0% {\n",
              "      border-color: transparent;\n",
              "      border-bottom-color: var(--fill-color);\n",
              "      border-left-color: var(--fill-color);\n",
              "    }\n",
              "    20% {\n",
              "      border-color: transparent;\n",
              "      border-left-color: var(--fill-color);\n",
              "      border-top-color: var(--fill-color);\n",
              "    }\n",
              "    30% {\n",
              "      border-color: transparent;\n",
              "      border-left-color: var(--fill-color);\n",
              "      border-top-color: var(--fill-color);\n",
              "      border-right-color: var(--fill-color);\n",
              "    }\n",
              "    40% {\n",
              "      border-color: transparent;\n",
              "      border-right-color: var(--fill-color);\n",
              "      border-top-color: var(--fill-color);\n",
              "    }\n",
              "    60% {\n",
              "      border-color: transparent;\n",
              "      border-right-color: var(--fill-color);\n",
              "    }\n",
              "    80% {\n",
              "      border-color: transparent;\n",
              "      border-right-color: var(--fill-color);\n",
              "      border-bottom-color: var(--fill-color);\n",
              "    }\n",
              "    90% {\n",
              "      border-color: transparent;\n",
              "      border-bottom-color: var(--fill-color);\n",
              "    }\n",
              "  }\n",
              "</style>\n",
              "\n",
              "      <script>\n",
              "        async function quickchart(key) {\n",
              "          const quickchartButtonEl =\n",
              "            document.querySelector('#' + key + ' button');\n",
              "          quickchartButtonEl.disabled = true;  // To prevent multiple clicks.\n",
              "          quickchartButtonEl.classList.add('colab-df-spinner');\n",
              "          try {\n",
              "            const charts = await google.colab.kernel.invokeFunction(\n",
              "                'suggestCharts', [key], {});\n",
              "          } catch (error) {\n",
              "            console.error('Error during call to suggestCharts:', error);\n",
              "          }\n",
              "          quickchartButtonEl.classList.remove('colab-df-spinner');\n",
              "          quickchartButtonEl.classList.add('colab-df-quickchart-complete');\n",
              "        }\n",
              "        (() => {\n",
              "          let quickchartButtonEl =\n",
              "            document.querySelector('#df-79c2697d-14d5-4f21-b8fd-1c17d319314b button');\n",
              "          quickchartButtonEl.style.display =\n",
              "            google.colab.kernel.accessAllowed ? 'block' : 'none';\n",
              "        })();\n",
              "      </script>\n",
              "    </div>\n",
              "\n",
              "    </div>\n",
              "  </div>\n"
            ],
            "application/vnd.google.colaboratory.intrinsic+json": {
              "type": "dataframe",
              "variable_name": "duplicates_with_qty",
              "summary": "{\n  \"name\": \"duplicates_with_qty\",\n  \"rows\": 72,\n  \"fields\": [\n    {\n      \"column\": \"Salesperson\",\n      \"properties\": {\n        \"dtype\": \"category\",\n        \"num_unique_values\": 30,\n        \"samples\": [\n          \"Thomas Morrow\",\n          \"Lori Jacobs\",\n          \"Robin Cantrell\"\n        ],\n        \"semantic_type\": \"\",\n        \"description\": \"\"\n      }\n    },\n    {\n      \"column\": \"Customer Name\",\n      \"properties\": {\n        \"dtype\": \"string\",\n        \"num_unique_values\": 36,\n        \"samples\": [\n          \"Matthew Cruz\",\n          \"John Anderson\",\n          \"Ryan Jones\"\n        ],\n        \"semantic_type\": \"\",\n        \"description\": \"\"\n      }\n    },\n    {\n      \"column\": \"Date\",\n      \"properties\": {\n        \"dtype\": \"date\",\n        \"min\": \"2018-02-10 00:00:00\",\n        \"max\": \"2024-12-04 00:00:00\",\n        \"num_unique_values\": 36,\n        \"samples\": [\n          \"2023-09-17 00:00:00\",\n          \"2021-10-26 00:00:00\",\n          \"2024-01-27 00:00:00\"\n        ],\n        \"semantic_type\": \"\",\n        \"description\": \"\"\n      }\n    },\n    {\n      \"column\": \"Count\",\n      \"properties\": {\n        \"dtype\": \"number\",\n        \"std\": 0,\n        \"min\": 2,\n        \"max\": 2,\n        \"num_unique_values\": 1,\n        \"samples\": [\n          2\n        ],\n        \"semantic_type\": \"\",\n        \"description\": \"\"\n      }\n    },\n    {\n      \"column\": \"Quantity\",\n      \"properties\": {\n        \"dtype\": \"number\",\n        \"std\": 0,\n        \"min\": 1,\n        \"max\": 3,\n        \"num_unique_values\": 3,\n        \"samples\": [\n          2\n        ],\n        \"semantic_type\": \"\",\n        \"description\": \"\"\n      }\n    }\n  ]\n}"
            }
          },
          "metadata": {},
          "execution_count": 29
        }
      ]
    },
    {
      "cell_type": "code",
      "source": [
        "# Keep only rows that are NOT duplicates\n",
        "car_sales_no_duplicates = car_sales_cleaned[~car_sales_cleaned.duplicated(subset=['Salesperson', 'Customer Name', 'Date'], keep=False)].copy()\n",
        "\n",
        "# Check how many rows were removed\n",
        "rows_removed = car_sales_cleaned.shape[0] - car_sales_no_duplicates.shape[0]\n",
        "print(f\"Number of rows removed: {rows_removed}\")\n",
        "\n",
        "# Check the new dataset size\n",
        "print(f\"New dataset size: {car_sales_no_duplicates.shape[0]} rows\")\n"
      ],
      "metadata": {
        "colab": {
          "base_uri": "https://localhost:8080/"
        },
        "id": "AHPQsNCi4fKt",
        "outputId": "22da16d9-e039-4b0b-f984-05d37dfd824d"
      },
      "execution_count": null,
      "outputs": [
        {
          "output_type": "stream",
          "name": "stdout",
          "text": [
            "Number of rows removed: 72\n",
            "New dataset size: 647497 rows\n"
          ]
        }
      ]
    },
    {
      "cell_type": "code",
      "source": [
        "import matplotlib.pyplot as plt\n",
        "\n",
        "# Ensure 'Date' is a datetime column\n",
        "car_sales_no_duplicates['Date'] = pd.to_datetime(car_sales_no_duplicates['Date'])\n",
        "\n",
        "# Filter data between 2018 and 2024\n",
        "mask = (car_sales_no_duplicates['Date'].dt.year >= 2018) & (car_sales_no_duplicates['Date'].dt.year <= 2024)\n",
        "df_filtered = car_sales_no_duplicates.loc[mask]\n",
        "\n",
        "# Group by Date and calculate average Dealer Price\n",
        "avg_dealer_price_by_date = df_filtered.groupby('Date')['Dealer Car Price'].mean().reset_index()\n",
        "\n",
        "# Plot line chart\n",
        "plt.figure(figsize=(14,6))\n",
        "plt.plot(avg_dealer_price_by_date['Date'], avg_dealer_price_by_date['Dealer Car Price'], marker='o', linestyle='-')\n",
        "plt.title('Average Dealer Price Over Time (2018-2024)')\n",
        "plt.xlabel('Date')\n",
        "plt.ylabel('Average Dealer Price')\n",
        "plt.xticks(rotation=45)\n",
        "plt.grid(True)\n",
        "plt.tight_layout()\n",
        "plt.show()\n",
        "\n"
      ],
      "metadata": {
        "colab": {
          "base_uri": "https://localhost:8080/",
          "height": 606
        },
        "id": "2VHJw9KlGCMN",
        "outputId": "fcbbffa6-dcc5-4885-bf5a-db59126268eb"
      },
      "execution_count": null,
      "outputs": [
        {
          "output_type": "display_data",
          "data": {
            "text/plain": [
              "<Figure size 1400x600 with 1 Axes>"
            ],
            "image/png": "[encoded data removed]"
          },
          "metadata": {}
        }
      ]
    },
    {
      "cell_type": "markdown",
      "source": [
        "### Download Data"
      ],
      "metadata": {
        "id": "SDBiyO8tzUO4"
      }
    },
    {
      "cell_type": "code",
      "source": [
        "# Save the cleaned dataset to CSV\n",
        "car_sales_no_duplicates.to_csv('/content/car_sales_no_duplicates.csv', index=False)\n",
        "\n",
        "# Download the CSV to your computer\n",
        "from google.colab import files\n",
        "files.download('/content/car_sales_no_duplicates.csv')\n"
      ],
      "metadata": {
        "colab": {
          "base_uri": "https://localhost:8080/",
          "height": 34
        },
        "id": "I2Lr79SZ0gM2",
        "outputId": "de9193e0-db59-40aa-aecc-eb555038f9b5"
      },
      "execution_count": null,
      "outputs": [
        {
          "output_type": "display_data",
          "data": {
            "text/plain": [
              "<IPython.core.display.Javascript object>"
            ],
            "application/javascript": [
              "\n",
              "    async function download(id, filename, size) {\n",
              "      if (!google.colab.kernel.accessAllowed) {\n",
              "        return;\n",
              "      }\n",
              "      const div = document.createElement('div');\n",
              "      const label = document.createElement('label');\n",
              "      label.textContent = `Downloading \"${filename}\": `;\n",
              "      div.appendChild(label);\n",
              "      const progress = document.createElement('progress');\n",
              "      progress.max = size;\n",
              "      div.appendChild(progress);\n",
              "      document.body.appendChild(div);\n",
              "\n",
              "      const buffers = [];\n",
              "      let downloaded = 0;\n",
              "\n",
              "      const channel = await google.colab.kernel.comms.open(id);\n",
              "      // Send a message to notify the kernel that we're ready.\n",
              "      channel.send({})\n",
              "\n",
              "      for await (const message of channel.messages) {\n",
              "        // Send a message to notify the kernel that we're ready.\n",
              "        channel.send({})\n",
              "        if (message.buffers) {\n",
              "          for (const buffer of message.buffers) {\n",
              "            buffers.push(buffer);\n",
              "            downloaded += buffer.byteLength;\n",
              "            progress.value = downloaded;\n",
              "          }\n",
              "        }\n",
              "      }\n",
              "      const blob = new Blob(buffers, {type: 'application/binary'});\n",
              "      const a = document.createElement('a');\n",
              "      a.href = window.URL.createObjectURL(blob);\n",
              "      a.download = filename;\n",
              "      div.appendChild(a);\n",
              "      a.click();\n",
              "      div.remove();\n",
              "    }\n",
              "  "
            ]
          },
          "metadata": {}
        },
        {
          "output_type": "display_data",
          "data": {
            "text/plain": [
              "<IPython.core.display.Javascript object>"
            ],
            "application/javascript": [
              "download(\"download_85350200-e7e5-428d-aab4-770f7ed7d696\", \"car_sales_no_duplicates.csv\", 154107037)"
            ]
          },
          "metadata": {}
        }
      ]
    }
  ]
}